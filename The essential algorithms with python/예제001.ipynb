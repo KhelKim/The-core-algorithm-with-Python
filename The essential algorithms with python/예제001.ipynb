{
 "cells": [
  {
   "cell_type": "markdown",
   "metadata": {},
   "source": [
    "# 반복문을 사용하여 0부터 n까지의 합 출력하기\n",
    "- 0부터 n까지 연속된 숫자의 합을 계산하여 화면에 출력하는 프로그램을 작성해보자. 단, n은 사용자로부터 입력받아도 되고 직접 코드에 작성해도 상관없다."
   ]
  },
  {
   "cell_type": "markdown",
   "metadata": {},
   "source": [
    "문제 풀이 조건.\n",
    "1. 0부터 100까지의 숫자를 순서대로 증가시켜야 한다.\n",
    "2. 숫자를 순서대로 증가시키는 방법으로 반복문을 사용해야 한다.\n",
    "3. 이 프로그래밍에서 사용하는 변수의 개수를 미리 알고 있어야 한다."
   ]
  },
  {
   "cell_type": "code",
   "execution_count": 5,
   "metadata": {},
   "outputs": [
    {
     "name": "stdout",
     "output_type": "stream",
     "text": [
      "자연수를 입력하세요: 10\n",
      "55\n"
     ]
    }
   ],
   "source": [
    "n = int(input(\"자연수를 입력하세요: \"))\n",
    "\n",
    "def sum(n):\n",
    "    tmp = 0\n",
    "    for i in range(n + 1):\n",
    "        tmp += i\n",
    "    return tmp\n",
    "\n",
    "print(sum(n))"
   ]
  },
  {
   "cell_type": "code",
   "execution_count": 6,
   "metadata": {},
   "outputs": [
    {
     "name": "stdout",
     "output_type": "stream",
     "text": [
      "자연수를 입력하세요: 100\n",
      "5050\n"
     ]
    }
   ],
   "source": [
    "### 재귀를 이용한 풀이\n",
    "n = int(input(\"자연수를 입력하세요: \"))\n",
    "\n",
    "def sum(n):\n",
    "    if n == 0:\n",
    "        return 0\n",
    "    else:\n",
    "        return n + sum(n - 1)\n",
    "print(sum(n))"
   ]
  }
 ],
 "metadata": {
  "kernelspec": {
   "display_name": "Python 3",
   "language": "python",
   "name": "python3"
  },
  "language_info": {
   "codemirror_mode": {
    "name": "ipython",
    "version": 3
   },
   "file_extension": ".py",
   "mimetype": "text/x-python",
   "name": "python",
   "nbconvert_exporter": "python",
   "pygments_lexer": "ipython3",
   "version": "3.6.7"
  }
 },
 "nbformat": 4,
 "nbformat_minor": 2
}
