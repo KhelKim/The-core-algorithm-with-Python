{
 "cells": [
  {
   "cell_type": "markdown",
   "metadata": {},
   "source": [
    "필수알고리즘with파이썬_10\n",
    "============"
   ]
  },
  {
   "cell_type": "markdown",
   "metadata": {},
   "source": [
    "# LESSON 10 퀵, 기수 정렬 알고리즘\n",
    "10.1 퀵 정렬 알고리즘(Quick Sort Algorithm)  \n",
    "10.2 퀵 정렬 알고리즘의 분석  \n",
    "10.3 기수 정렬 알고리즘(Radix Sort Algorithm)  \n",
    "10.4 기수 정렬 알고리즘의 분석  \n",
    "10.5 정리  "
   ]
  },
  {
   "cell_type": "markdown",
   "metadata": {},
   "source": [
    "## 10.1 퀵 정렬 알고리즘(Quick Sort Algorithm)\n"
   ]
  },
  {
   "cell_type": "markdown",
   "metadata": {},
   "source": [
    "- 개인적으로는 퀵 정렬 알고리즘은 코드를 먼저 보면서 이해하는 것이 더 좋다고 생각한다. "
   ]
  },
  {
   "cell_type": "code",
   "execution_count": 5,
   "metadata": {},
   "outputs": [],
   "source": [
    "def quicksort(arr):\n",
    "    if len(arr) <= 1: ## 재귀함수의 탈출  코드\n",
    "        return arr\n",
    "    else:\n",
    "        pivot = arr[int(len(arr)/2)]  ## 퀵 정렬의 키 포인트, 피벗을 정한다!! 보통은 중위값\n",
    "        left = [x for x in arr if x < pivot] ## 피벗을 기준으로 왼쪽에 들어갈 수와\n",
    "        middle = [x for x in arr if x == pivot]  \n",
    "        right = [x for x in arr if x > pivot] ## 피벗을 기준으로 오른쪽에 들어갈 수를 정의한다.\n",
    "        return quicksort(left) + middle + quicksort(right)"
   ]
  },
  {
   "cell_type": "code",
   "execution_count": 6,
   "metadata": {},
   "outputs": [
    {
     "name": "stdout",
     "output_type": "stream",
     "text": [
      "정렬할 데이터의 수: 100\n",
      "Before Sort\n",
      "[12, 4, 49, 95, 7, 23, 52, 82, 84, 37, 37, 68, 85, 44, 4, 12, 85, 15, 8, 31, 9, 2, 40, 69, 28, 48, 73, 46, 70, 35, 7, 33, 78, 90, 59, 63, 47, 50, 83, 74, 8, 68, 29, 49, 68, 24, 37, 22, 69, 47, 22, 86, 35, 96, 44, 21, 2, 72, 63, 37, 22, 67, 42, 27, 16, 2, 33, 50, 26, 32, 31, 77, 22, 82, 6, 18, 48, 42, 23, 38, 67, 56, 9, 28, 100, 77, 97, 15, 44, 91, 29, 19, 60, 24, 16, 51, 19, 25, 41, 56]\n",
      "After Sort\n",
      "[12, 4, 49, 95, 7, 23, 52, 82, 84, 37, 37, 68, 85, 44, 4, 12, 85, 15, 8, 31, 9, 2, 40, 69, 28, 48, 73, 46, 70, 35, 7, 33, 78, 90, 59, 63, 47, 50, 83, 74, 8, 68, 29, 49, 68, 24, 37, 22, 69, 47, 22, 86, 35, 96, 44, 21, 2, 72, 63, 37, 22, 67, 42, 27, 16, 2, 33, 50, 26, 32, 31, 77, 22, 82, 6, 18, 48, 42, 23, 38, 67, 56, 9, 28, 100, 77, 97, 15, 44, 91, 29, 19, 60, 24, 16, 51, 19, 25, 41, 56]\n"
     ]
    }
   ],
   "source": [
    "import random\n",
    "\n",
    "list = []\n",
    "input_n = input(\"정렬할 데이터의 수: \")\n",
    "for i in range(int(input_n)):\n",
    "    list.append(random.randint(1, int(input_n)))\n",
    "print(\"Before Sort\")\n",
    "print(list)\n",
    "\n",
    "quicksort(list)\n",
    "\n",
    "print(\"After Sort\")\n",
    "print(list)"
   ]
  },
  {
   "cell_type": "markdown",
   "metadata": {},
   "source": [
    "- 코드를 보면 퀵 정렬이 어떻게 움직이는 지 알 수 있다.\n",
    "- 이러한 알고리즘을 __분할 정복(Divide and Conquer)__ 알고리즘이라고 말한다.\n",
    "\n",
    "\n",
    "- 책의 코드의 경우는 Cache 없이 퀵 정렬 알고리즘을 구현한 코드다.\n",
    "- 책의 코드는 무언가 보기 싫어서 위키의 코드를 따 왔다.\n",
    "https://ko.wikipedia.org/wiki/%ED%80%B5_%EC%A0%95%EB%A0%AC"
   ]
  },
  {
   "cell_type": "code",
   "execution_count": 9,
   "metadata": {},
   "outputs": [],
   "source": [
    "def partition(arr, start, end):\n",
    "    pivot = arr[start]\n",
    "    left = start + 1\n",
    "    right = end\n",
    "    done = False\n",
    "    while not done:\n",
    "        while left <= right and arr[left] <= pivot:\n",
    "            left += 1\n",
    "        while left <= right and pivot <= arr[right]:\n",
    "            right -= 1\n",
    "        if right < left:\n",
    "            done = True\n",
    "        else:\n",
    "            arr[left], arr[right] = arr[right], arr[left]\n",
    "    arr[start], arr[right] = arr[right], arr[start]\n",
    "    return right\n",
    "\n",
    "def quicksort(arr, start, end):\n",
    "    if start < end:\n",
    "        pivot = partition(arr, start, end)\n",
    "        quicksort(arr, start, pivot - 1)\n",
    "        quicksort(arr, pivot + 1, end)\n",
    "    return arr"
   ]
  },
  {
   "cell_type": "code",
   "execution_count": 10,
   "metadata": {},
   "outputs": [
    {
     "name": "stdout",
     "output_type": "stream",
     "text": [
      "정렬할 데이터의 수: 100\n",
      "Before Sort\n",
      "[41, 30, 75, 73, 56, 48, 61, 24, 44, 29, 95, 26, 77, 30, 63, 42, 5, 6, 71, 40, 17, 43, 51, 91, 50, 8, 33, 26, 35, 47, 55, 7, 75, 51, 43, 1, 83, 33, 41, 68, 41, 72, 67, 90, 49, 56, 94, 61, 54, 72, 38, 85, 47, 86, 14, 44, 26, 37, 73, 14, 6, 29, 5, 32, 24, 80, 95, 82, 92, 56, 41, 14, 80, 9, 82, 30, 76, 87, 22, 87, 2, 49, 48, 21, 22, 28, 8, 26, 74, 86, 44, 41, 29, 48, 29, 91, 80, 13, 82, 72]\n",
      "After Sort\n",
      "[1, 2, 5, 5, 6, 6, 7, 8, 8, 9, 13, 14, 14, 14, 17, 21, 22, 22, 24, 24, 26, 26, 26, 26, 28, 29, 29, 29, 29, 30, 30, 30, 32, 33, 33, 35, 37, 38, 40, 41, 41, 41, 41, 41, 42, 43, 43, 44, 44, 44, 47, 47, 48, 48, 48, 49, 49, 50, 51, 51, 54, 55, 56, 56, 56, 61, 61, 63, 67, 68, 71, 72, 72, 72, 73, 73, 74, 75, 75, 76, 77, 80, 80, 80, 82, 82, 82, 83, 85, 86, 86, 87, 87, 90, 91, 91, 92, 94, 95, 95]\n"
     ]
    }
   ],
   "source": [
    "import random\n",
    "\n",
    "list = []\n",
    "input_n = input(\"정렬할 데이터의 수: \")\n",
    "for i in range(int(input_n)):\n",
    "    list.append(random.randint(1, int(input_n)))\n",
    "print(\"Before Sort\")\n",
    "print(list)\n",
    "\n",
    "quicksort(list, 0, len(list) - 1)\n",
    "\n",
    "print(\"After Sort\")\n",
    "print(list)"
   ]
  },
  {
   "cell_type": "markdown",
   "metadata": {},
   "source": [
    "- partition\n",
    "![](./images/퀵정렬.png)"
   ]
  },
  {
   "cell_type": "markdown",
   "metadata": {},
   "source": [
    "## 10.2 퀵 정렬 알고리즘의 분석\n",
    "1. 시간의 효율성  \n",
    "퀵 정렬 알고리즘이 일반적인 경우엔 O(N\\timeslogN)의 성능을 보여주지만, 최악의 경우에는 O(N^2)의 성능이 된다.  \n",
    "2. 공간의 효율성  \n",
    "퀵 정렬 알고리즘의 경우는 사실 정렬을 하기 위한 별도의 저장 공간이 필요가 없다.\n",
    "3. 코드의 효율성  \n",
    "퀵 정렬 알고리즘은 보통의 경우 재귀 호출을 사용한다. 재귀 호출을 사용하게 되면 코드의 길이가 짧아지고 컴팩트(compact)하다는 장점이 있는 반면에, 디버깅이 어렵고 코드를 이해하기 어렵다."
   ]
  },
  {
   "cell_type": "markdown",
   "metadata": {},
   "source": [
    "## 10.3 기수 정렬 알고리즘(Radix Sort Algorithm)\n",
    "- 기수 정렬이란 정렬할 데이터의 자릿수를 이용하여 데이터를 정렬하는 방법이다.\n",
    "- 코딩을 보자"
   ]
  },
  {
   "cell_type": "code",
   "execution_count": 20,
   "metadata": {},
   "outputs": [],
   "source": [
    "from math import log10\n",
    "\n",
    "def get_digit(number, base, pos):\n",
    "    return (number // base ** pos) % base ## pos는 자리수\n",
    "\n",
    "def prefix_sum(array):\n",
    "    for i in range(1, len(array)):\n",
    "        array[i] = array[i] + array[i - 1] ## 누적표 만들기\n",
    "    return array\n",
    "\n",
    "def radixsort(l, base=10):\n",
    "    passes = int(log10(max(l)) + 1) ## 자릿수 구하기\n",
    "    output = [0] * len(l)\n",
    "    for pos in range(passes): ## pos  = 0, 1, 2 ... (자리)\n",
    "        count = [0] * base  ## 비어있는 카운트 리스트 만들기\n",
    "        for i in l:\n",
    "            digit = get_digit(i, base, pos) ## 리스트를 돌아다니면서 digit을 구하고 \n",
    "            count[digit] += 1 ## 그 digit을 기반으로 카운트를 늘려준다.\n",
    "        for i in reversed(l):\n",
    "            digit = get_digit(i, base, pos) ## 리스트를 역순으로 돌면서 digit을 구하고\n",
    "            count[digit] -= 1 ## 누적 카운트(나중에 인덱스로 쓸거임)를 줄여준다.\n",
    "            new_pos = count[digit] ## 해당digit까지의 누적 개수를 나타냄\n",
    "            output[new_pos] = i ## 아웃풋의 누적 개수위치에 그 데이터를 넣음\n",
    "        l = list(output) ## shallow copy\n",
    "    return output"
   ]
  },
  {
   "cell_type": "markdown",
   "metadata": {},
   "source": [
    "- 이 코딩을 이 사이트의 애니메이션보다 자세하고 정확하게 설명할 수 없다.\n",
    "https://www.cs.usfca.edu/~galles/visualization/RadixSort.html\n",
    "\n",
    "\n",
    "- 기수 정렬 알고리즘은 자릿수로 데이터들을 정렬하기 때문에 데이터들을 비교하거나 이동하는 횟수가 거의 없다는 점이다."
   ]
  },
  {
   "cell_type": "markdown",
   "metadata": {},
   "source": [
    "## 10.4 기수 정렬 알고리즘의 분석\n"
   ]
  },
  {
   "cell_type": "markdown",
   "metadata": {},
   "source": [
    "- 기수 정렬 알고리즘의 성능은 자릿수와 정렬할 데이터의 수 그리고 각 자릿수에 따른 큐의 수에 따라 좌우된다. 따라서 기수 정렬의 경우는 데이터의 자리수 $D$와 정렬할 데이터의 수 $N$, 그리고 그에 해당하는 큐의 수 $Q$가 있을 때 다음과 같은 알고리즘 성능을 갖게 된다.\n",
    "$$O(RadixSort) = O(D \\times (N + Q)$$\n",
    "- 따라서 비교 횟수나 이동 횟수가 데이터의 정렬된 상태와 상관없이 데이터의 수 + 큐의 수와 더불어 데이터의 자릿수에 의해 영향을 받게 된다.\n",
    "- 따라서 100보다 작은 숫자의 정렬의 경우에는 자릿수 $D$는 1의 자리, 10의 자리가 되어 총 2가 되지만 이진수로 표현하는 경우에는 그 수가 급격하게 증가하므로 알고리즘의 전체 성능이 저하된다.\n",
    "\n",
    "\n",
    "\n",
    "1. 시간의 효율성  \n",
    "기수 정렬 알고리즘은 $O(RadixSort) = O(D \\times (N + Q)$의 성능을 갖고 있다. 따라서 기수 정렬 알고리즘의 성능을 향상 시키는 조건은 2가지다. 데이터의 수가 적거나 정렬할 데이터의 자릿수가 적은 경우다.\n",
    "2. 공간의 효율성  \n",
    "기수 정렬 알고리즘은 공간의 효율성이 가장 안좋은 정렬 알고리즘 중의 하나이다. 그 이유는 정렬할 데이터 공간 이외에 별도의 큐를 위한 공간을 확보해야 하기 때문이다. \n",
    "3. 코드의 효율성  \n",
    "기수 정렬 알고리즘의 코드는 그다지 복잡하지 않다. 하지만 10진수의 경우에는 그다지 복잡하지 않아도, 이진수로 데이터를 정렬하는 방법을 사용한다면 비트 연산이 포함되기 때문에 코드 내용이 상당히 어려워진다."
   ]
  },
  {
   "cell_type": "markdown",
   "metadata": {},
   "source": [
    "## 10.5 정리"
   ]
  },
  {
   "cell_type": "markdown",
   "metadata": {},
   "source": [
    "이번 Lesson에서는 고급 정렬 알고리즘의 대표주자인 퀵 정렬 알고리즘과 조금 색다른 정렬 방법을 사용하는 기수 정렬 알고리즘에 대해 알아보았다. 퀵 정렬 알고리즘은 빠른 실행 속도를 보여주는 알고리즘이다.  \n",
    "기수 정렬 알고리즘은 기존의 정렬 알고리즘들이 데이터가 정렬되어 있는 패턴에 따라 성능이 좌우되는데 반해 데이터의 패턴과는 상관없이 정렬된다는 특징이 있다."
   ]
  }
 ],
 "metadata": {
  "kernelspec": {
   "display_name": "Python 3",
   "language": "python",
   "name": "python3"
  },
  "language_info": {
   "codemirror_mode": {
    "name": "ipython",
    "version": 3
   },
   "file_extension": ".py",
   "mimetype": "text/x-python",
   "name": "python",
   "nbconvert_exporter": "python",
   "pygments_lexer": "ipython3",
   "version": "3.6.4"
  }
 },
 "nbformat": 4,
 "nbformat_minor": 2
}
