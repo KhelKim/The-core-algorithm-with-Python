{
 "cells": [
  {
   "cell_type": "markdown",
   "metadata": {},
   "source": [
    "369 게임 만들기\n",
    "==="
   ]
  },
  {
   "cell_type": "markdown",
   "metadata": {},
   "source": [
    "문제 풀이 조건.\n",
    "1. 3의 배수를 확인하는 코드를 작성해야 한다.\n",
    "2. 3의 배수가 아닌 경우는 숫자를 출력하고, 3의 배수인 경우는 \"X\"를 출력하는 코드를 작성해야 한다.\n",
    "3. 사용자로부터 입력 받은 n까지 위의 과정을 반복해야한다."
   ]
  },
  {
   "cell_type": "code",
   "execution_count": 2,
   "metadata": {},
   "outputs": [
    {
     "name": "stdout",
     "output_type": "stream",
     "text": [
      "숫자를 입력하삼: 6\n",
      "1\n",
      "2\n",
      "X\n",
      "4\n",
      "5\n",
      "X\n"
     ]
    }
   ],
   "source": [
    "def sol(n):\n",
    "    for i in range(1,n + 1):\n",
    "        if i % 3 != 0:\n",
    "            print(i)\n",
    "        else:\n",
    "            print(\"X\")\n",
    "            \n",
    "n = int(input(\"숫자를 입력하삼: \"))\n",
    "sol(n)"
   ]
  },
  {
   "cell_type": "code",
   "execution_count": 13,
   "metadata": {},
   "outputs": [
    {
     "name": "stdout",
     "output_type": "stream",
     "text": [
      "숫자를 입력하삼: 6\n",
      "1\n",
      "2\n",
      "X\n",
      "4\n",
      "5\n",
      "X\n"
     ]
    }
   ],
   "source": [
    "def sol_with_generator(n):\n",
    "    if n == 0:\n",
    "        return 0\n",
    "    else:\n",
    "        sol(n-1)\n",
    "        if n % 3 != 0:\n",
    "            yield i\n",
    "        else:\n",
    "            yield \"X\"\n",
    "            \n",
    "n = int(input(\"숫자를 입력하삼: \"))\n",
    "for i in sol_with_generator(n):\n",
    "    print(i)"
   ]
  }
 ],
 "metadata": {
  "kernelspec": {
   "display_name": "Python 3",
   "language": "python",
   "name": "python3"
  },
  "language_info": {
   "codemirror_mode": {
    "name": "ipython",
    "version": 3
   },
   "file_extension": ".py",
   "mimetype": "text/x-python",
   "name": "python",
   "nbconvert_exporter": "python",
   "pygments_lexer": "ipython3",
   "version": "3.6.7"
  }
 },
 "nbformat": 4,
 "nbformat_minor": 2
}
