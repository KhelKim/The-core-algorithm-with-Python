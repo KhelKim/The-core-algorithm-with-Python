{
 "cells": [
  {
   "cell_type": "markdown",
   "metadata": {},
   "source": [
    "필수알고리즘with파이썬_9\n",
    "========="
   ]
  },
  {
   "cell_type": "markdown",
   "metadata": {},
   "source": [
    "# LESSON 09 거품, 셸 정렬 알고리즘\n",
    "9.1 거품 정렬 알고리즘(Bubble Sort Algorithm)  \n",
    "9.2 거품 정렬 알고리즘의 실행과 성능  \n",
    "9.3 셸 정렬 알고리즘(Shell Sort Algorithm)  \n",
    "9.4 셸 정렬 알고리즘의 실행과 성능  \n",
    "9.5 기본 정렬 알고리즘 4가지의 비교  \n",
    "9.6 정리"
   ]
  },
  {
   "cell_type": "markdown",
   "metadata": {},
   "source": [
    "## 9.1 거품 정렬 알고리즘(Bubble Sort Algorithm)\n",
    "\n",
    "- 거품 정렬 알고리즘은 순차적으로 바로 옆에 있는 데이터와 비교해서 옆의 데이터가 크면 자신과 위치를 변경한다. 이와 같은 방식으로 데이터의 처음부터 끝까지 반복하게 된다.\n",
    "- 제일 뒤에서부터 맞춰진다.\n",
    "![](./images/거품정렬알고리즘.png)  "
   ]
  },
  {
   "cell_type": "code",
   "execution_count": 3,
   "metadata": {},
   "outputs": [],
   "source": [
    "def bubble_sort(random_list):\n",
    "    for start_index in range(len(random_list) - 1):\n",
    "        for index in range(1, len(random_list) - start_index): ##  마지막부터 맞춰지기 때문에 sort단계의 크기만큼 뺴줘야 함\n",
    "            if random_list[index - 1] > random_list[index]: ## 전에 것과 지금의 것을 비교\n",
    "                temp = random_list[index - 1]\n",
    "                random_list[index - 1] = random_list[index]\n",
    "                random_list[index] = temp"
   ]
  },
  {
   "cell_type": "code",
   "execution_count": 2,
   "metadata": {},
   "outputs": [
    {
     "name": "stdout",
     "output_type": "stream",
     "text": [
      "정렬할 데이터의 수: 100\n",
      "Befor sort\n",
      "[34, 51, 85, 52, 93, 73, 10, 59, 41, 38, 95, 20, 61, 40, 91, 77, 51, 30, 13, 94, 39, 1, 58, 99, 98, 22, 50, 49, 22, 38, 21, 64, 25, 95, 77, 38, 76, 53, 80, 44, 41, 15, 43, 3, 87, 56, 76, 90, 60, 26, 74, 32, 33, 39, 96, 99, 17, 21, 41, 12, 73, 4, 69, 92, 76, 78, 26, 84, 52, 70, 98, 8, 15, 29, 42, 53, 27, 49, 69, 26, 32, 44, 63, 87, 65, 17, 45, 47, 86, 82, 61, 51, 20, 24, 36, 91, 99, 53, 28, 36]\n",
      "After sort\n",
      "[1, 3, 4, 8, 10, 12, 13, 15, 15, 17, 17, 20, 20, 21, 21, 22, 22, 24, 25, 26, 26, 26, 27, 28, 29, 30, 32, 32, 33, 34, 36, 36, 38, 38, 38, 39, 39, 40, 41, 41, 41, 42, 43, 44, 44, 45, 47, 49, 49, 50, 51, 51, 51, 52, 52, 53, 53, 53, 56, 58, 59, 60, 61, 61, 63, 64, 65, 69, 69, 70, 73, 73, 74, 76, 76, 76, 77, 77, 78, 80, 82, 84, 85, 86, 87, 87, 90, 91, 91, 92, 93, 94, 95, 95, 96, 98, 98, 99, 99, 99]\n"
     ]
    }
   ],
   "source": [
    "import random\n",
    "\n",
    "list = []\n",
    "input_n = input(\"정렬할 데이터의 수: \")\n",
    "for i in range(int(input_n)):\n",
    "    list.append(random.randint(1, int(input_n)))\n",
    "print(\"Before Sort\")\n",
    "print(list)\n",
    "\n",
    "bubble_sort(list)\n",
    "\n",
    "print(\"After Sort\")\n",
    "print(list)"
   ]
  },
  {
   "cell_type": "markdown",
   "metadata": {},
   "source": [
    "## 9.2 거품 정렬 알고리즘의 실행과 성능\n",
    "- 최선의 경우에는 이미 정렬되어 있는 경우이기 때문에 이동 횟수는 $0$이지만, 비교 횟수는 $(N*(N-1))/2$가 된다. 최악의 경우에는 비교 횟수와 이동 횟수가 모두 $(N*(N-1))/2$가 된다. 따라서, 거품 정렬의 경우에는 비교 횟수나 이동 횟수에서는 $(N*(N-1))/2$가 되므로 다른 정렬 알고리즘과 비슷하자만 알고리즘 자체의 성능이 다른 정렬 알고리즘에 비해 많이 떨어진다.\n",
    "\n",
    "1. 시간의 효율성  \n",
    "거품 정렬 알고리즘은 $O$ 표기법에 의하여 $O(N^2)$의 실행 시간을 갖는다.  거품 정렬은 알고리즘의 구조상 선택 정렬이나 삽입 정렬보다도 실행 시간을 더 많이 소요한다. \n",
    "2. 공간의 효율성  \n",
    "거품 정렬 알고리즘은 배열끼리의 비교 및 데이터 이동을 하고 있기 때문에 공간적인 면에서는 삽입 정렬이나 선택 정렬과 비슷하다.  \n",
    "3. 코드의 효율성  \n",
    "거품 정렬 알고리즘 코드의 복잡도는 for문을 2번 사용하여 $O(N^2)$의 성능이 되무로 그다지 좋은 알고리즘이라고 보기는 어렵다."
   ]
  },
  {
   "cell_type": "markdown",
   "metadata": {},
   "source": [
    "## 9.3 셸 정렬 알고리즘(Shell Sort Algorithm)\n",
    "- 셸 정렬 알고리즘은 기본 구조는 삽입 정렬 알고리즘과 비슷하지만 삽입 정렬 알고리즘의 단점을 극복하기 위해 좀 더 개선된 정렬 알고리즘이다.\n",
    "- 셸 정렬 알고리즘의 특징이 정렬할 데이터를 일정한 구간별로 쪼개서 그 구간 내에서 정렬을 한 후에 구간을 합쳐서 정렬을 하기 때문이다.\n",
    "![](./images/셸알고리즘.png)\n",
    "\n",
    "- 자세한 것은 코딩을 보자"
   ]
  },
  {
   "cell_type": "code",
   "execution_count": 15,
   "metadata": {},
   "outputs": [],
   "source": [
    "def shell_sort(random_list):\n",
    "    h = 1\n",
    "    while h < len(random_list):\n",
    "        h = h * 3 + 1\n",
    "    h = h // 3  ## 한 부분 리스트의 크기 + 1\n",
    "                    ## 보통은 부분 리스트의 개수는 2개로 함, 예에서는 3개\n",
    "                    ## 예에서는 h = 4\n",
    "    while h > 0:\n",
    "        for i in range(h):\n",
    "            start_index = i + h ## 4, 5, 6, ...\n",
    "            \n",
    "            while start_index < len(random_list): ##  insert sort를 각각의 부분 리스트에 같은 높이에 있는 숫자들에게 적용함.\n",
    "                temp = random_list[start_index] ## i = 0 일 때, temp = 8\n",
    "                insert_index = start_index ## i = 0 일 때, h = 4\n",
    "                while insert_index > h - 1 and random_list[insert_index - h] > temp: ## insert sort에서의 탐색\n",
    "                    random_list[insert_index] = random_list[insert_index - h] ## 뒤로 밀기\n",
    "                    insert_index = insert_index - h ## 인덱스 저장\n",
    "                    \n",
    "                random_list[insert_index] = temp ## 인덱스 적용\n",
    "                start_index = start_index + h ## i = 0이면 start_index = 8\n",
    "            \n",
    "        h = h // 3"
   ]
  },
  {
   "cell_type": "code",
   "execution_count": 18,
   "metadata": {},
   "outputs": [
    {
     "name": "stdout",
     "output_type": "stream",
     "text": [
      "정렬할 데이터의 수: 100\n",
      "Before Sort\n",
      "[36, 32, 8, 99, 37, 52, 1, 31, 95, 42, 30, 3, 89, 90, 17, 43, 4, 41, 34, 53, 55, 13, 72, 59, 1, 28, 100, 88, 2, 48, 1, 94, 18, 65, 89, 75, 38, 63, 99, 58, 99, 41, 34, 59, 87, 96, 18, 22, 32, 2, 93, 82, 62, 83, 16, 2, 17, 98, 13, 6, 70, 89, 20, 6, 57, 49, 47, 8, 79, 15, 24, 56, 30, 75, 95, 9, 65, 37, 68, 18, 36, 6, 43, 42, 53, 98, 91, 54, 85, 68, 55, 14, 42, 47, 65, 90, 69, 52, 43, 28]\n",
      "After Sort\n",
      "[1, 1, 1, 2, 2, 2, 3, 4, 6, 6, 6, 8, 8, 9, 13, 13, 14, 15, 16, 17, 17, 18, 18, 18, 20, 22, 24, 28, 28, 30, 30, 31, 32, 32, 34, 34, 36, 36, 37, 37, 38, 41, 41, 42, 42, 42, 43, 43, 43, 47, 47, 48, 49, 52, 52, 53, 53, 54, 55, 55, 56, 57, 58, 59, 59, 62, 63, 65, 65, 65, 68, 68, 69, 70, 72, 75, 75, 79, 82, 83, 85, 87, 88, 89, 89, 89, 90, 90, 91, 93, 94, 95, 95, 96, 98, 98, 99, 99, 99, 100]\n"
     ]
    }
   ],
   "source": [
    "import random\n",
    "\n",
    "list = []\n",
    "input_n = input(\"정렬할 데이터의 수: \")\n",
    "for i in range(int(input_n)):\n",
    "    list.append(random.randint(1, int(input_n)))\n",
    "\n",
    "print(\"Before Sort\")\n",
    "print(list)\n",
    "\n",
    "shell_sort(list)\n",
    "                \n",
    "print(\"After Sort\")\n",
    "print(list)"
   ]
  },
  {
   "cell_type": "markdown",
   "metadata": {},
   "source": [
    "## 9.4 셸 정렬 알고리즘의 실행과 성능\n"
   ]
  },
  {
   "cell_type": "markdown",
   "metadata": {},
   "source": [
    "- 셸 정렬 알고리즘은 기존에 배운 선택, 삽입, 거품 정렬 알고리즘에 비해 엄청나게 좋은 성능을 보여주고 있다. 그 이유는 셸 정렬 알고리즘은 하나의 데이터와 그룹간에 비교 이동을 몇 개의 단계로 나누어서 진행하므로 $O(N(log_2N))$정도의 성능을 보여주기 때문이다.\n",
    "\n",
    "\n",
    "1. 시간의 효율성  \n",
    "셸 정렬 알고리즘은 $O(N(log_2N))$의 실행 시간을 갖게 되므로 선택/삽입/거품 정렬에 비해 월등히 좋은 성능을 보여준다.\n",
    "2. 공간의 효율성  \n",
    "셸 정렬 알고리즘은 인덱스의 조작만으로 정렬을 하는 도극한 방식이기 때문에 여분의 공간이 필요하거나 불필요한 공간을 사용하지 않는다.\n",
    "3. 코드의 효율성  \n",
    "셸 정렬 알고리즘의 가장 큰 문제는 셸 정렬 알고리즘이 이해하기가 그리 쉬운 알고리즘이 아니라는 점이다."
   ]
  },
  {
   "cell_type": "markdown",
   "metadata": {},
   "source": [
    "## 9.5 기본 정렬 알고리즘 4가지의 비교\n",
    "\n",
    "- 정렬할 데이터를 무작위로 선택하여 정렬하는 경우, 셸 > 삽입 = 선택 > 거품\n",
    "- 정렬할 데이터가 최선의 경우, 셸 > 삽입 > 선택 > 거품\n",
    "- 정렬할 데이터가 최악의 경우, 셸 > 선택 > 삽입 > 거품"
   ]
  },
  {
   "cell_type": "markdown",
   "metadata": {},
   "source": [
    "## 9.6 정리\n",
    "- 지금까지 선택, 삽입, 거품 그리고 셸 정렬 알고리즘에 대해 알아봤다. 이 4가지 정렬 알고리즘들은 기본적인 알고리즘이며 셸 정렬 알고리즘을 제외한 나머지 알고리즘은 $O(N^2)$의 성능을 갖고 있다. 그러나 무조건 셸 정렬 알고리즘이 좋다고만은 볼 수 없으며 각각의 데이터 정렬 조건에 따라 사용해야 할 정렬 알고리즘이 달라질 수 밖에 없다"
   ]
  }
 ],
 "metadata": {
  "kernelspec": {
   "display_name": "Python 3",
   "language": "python",
   "name": "python3"
  },
  "language_info": {
   "codemirror_mode": {
    "name": "ipython",
    "version": 3
   },
   "file_extension": ".py",
   "mimetype": "text/x-python",
   "name": "python",
   "nbconvert_exporter": "python",
   "pygments_lexer": "ipython3",
   "version": "3.6.4"
  }
 },
 "nbformat": 4,
 "nbformat_minor": 2
}
