{
 "cells": [
  {
   "cell_type": "markdown",
   "metadata": {},
   "source": [
    "# 반복문을 사용하여 1부터 n까지 출력하기\n",
    "- 1부터 20까지의 연속된 숫자를 화면에 출력하는 프로그램을 반복문을 사용하여 작성해보자."
   ]
  },
  {
   "cell_type": "markdown",
   "metadata": {},
   "source": [
    "문제 풀이 조건.\n",
    "1. 1부터 순서대로 화면에 출력해야 한다.\n",
    "2. 출력하는 숫자가 n이 되면 프로그램을 종료한다."
   ]
  },
  {
   "cell_type": "code",
   "execution_count": 2,
   "metadata": {},
   "outputs": [
    {
     "name": "stdout",
     "output_type": "stream",
     "text": [
      "숫자를 입력하삼:10\n",
      "1\n",
      "2\n",
      "3\n",
      "4\n",
      "5\n",
      "6\n",
      "7\n",
      "8\n",
      "9\n",
      "10\n"
     ]
    }
   ],
   "source": [
    "n = int(input(\"숫자를 입력하삼:\"))\n",
    "\n",
    "def sol(n):\n",
    "    iteration = 1\n",
    "    while iteration <= n:\n",
    "        print(iteration)\n",
    "        iteration += 1\n",
    "sol(n)"
   ]
  },
  {
   "cell_type": "markdown",
   "metadata": {},
   "source": [
    "참고.\n",
    "딕셔너리에서 for문을 사용할 수 있다."
   ]
  },
  {
   "cell_type": "code",
   "execution_count": 4,
   "metadata": {},
   "outputs": [
    {
     "name": "stdout",
     "output_type": "stream",
     "text": [
      "key1\n",
      "value1\n",
      "key2\n",
      "value2\n",
      "key3\n",
      "value3\n"
     ]
    }
   ],
   "source": [
    "dic = {'key1': 'value1', 'key2': 'value2', 'key3': 'value3'}\n",
    "\n",
    "for i in dic:\n",
    "    print(i)\n",
    "    print(dic[i])"
   ]
  }
 ],
 "metadata": {
  "kernelspec": {
   "display_name": "Python 3",
   "language": "python",
   "name": "python3"
  },
  "language_info": {
   "codemirror_mode": {
    "name": "ipython",
    "version": 3
   },
   "file_extension": ".py",
   "mimetype": "text/x-python",
   "name": "python",
   "nbconvert_exporter": "python",
   "pygments_lexer": "ipython3",
   "version": "3.6.7"
  }
 },
 "nbformat": 4,
 "nbformat_minor": 2
}
