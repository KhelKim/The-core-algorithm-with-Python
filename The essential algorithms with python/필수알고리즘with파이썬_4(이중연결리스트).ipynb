{
 "cells": [
  {
   "cell_type": "markdown",
   "metadata": {},
   "source": [
    "필수알고리즘with파이썬_4\n",
    "========================"
   ]
  },
  {
   "cell_type": "markdown",
   "metadata": {},
   "source": [
    "# LESSON 04 이중 연결 리스트\n",
    "4.1 이중 연결 리스트  \n",
    "4.2 정리"
   ]
  },
  {
   "cell_type": "markdown",
   "metadata": {},
   "source": [
    "## 4.2 이중 연결 리스트\n",
    "- 지금까지 배운 연결 리스트는 단일 연결 리스트다. 단일 연결 리스트의 변형으로 이중 연결 리스트도 있다."
   ]
  },
  {
   "cell_type": "markdown",
   "metadata": {},
   "source": [
    "### 4.1.1 이중 연결 리스트의 개념\n",
    "- 지금까지 배운 연결 리스트는 링크가 하나만 존재하는 단일 연결 리스트여서 무조건 한 방향으로만 링크를 따라가야 하기 때문에 다소 불편한 점이 있었다.\n",
    "- 이중 연결 리스트는 양방향으로 구성되어 있다."
   ]
  },
  {
   "cell_type": "code",
   "execution_count": 1,
   "metadata": {},
   "outputs": [],
   "source": [
    "class Node:\n",
    "    def __init__(self, data, next=None, prev=None):\n",
    "        self.data = data\n",
    "        self.next = next\n",
    "        self.prev = prev\n",
    "\n",
    "def init_list():\n",
    "    global node_A\n",
    "    node_A = Node(\"A\")\n",
    "    node_B = Node(\"B\")\n",
    "    node_D = Node(\"D\")\n",
    "    node_E = Node(\"E\")\n",
    "    node_A.next = node_B\n",
    "    node_B.next = node_D\n",
    "    node_B.prev = node_A\n",
    "    node_D.next = node_E\n",
    "    node_D.prev = node_B\n",
    "    node_E.prev = node_D\n",
    "    \n",
    "def print_list():\n",
    "    global node_A\n",
    "    node = node_A\n",
    "    while node:\n",
    "        print(node.data)\n",
    "        node = node.next"
   ]
  },
  {
   "cell_type": "code",
   "execution_count": 2,
   "metadata": {},
   "outputs": [
    {
     "name": "stdout",
     "output_type": "stream",
     "text": [
      "연결리스트 초기화 후\n",
      "A\n",
      "B\n",
      "D\n",
      "E\n"
     ]
    }
   ],
   "source": [
    "print(\"연결리스트 초기화 후\")\n",
    "init_list()\n",
    "print_list()"
   ]
  },
  {
   "cell_type": "markdown",
   "metadata": {},
   "source": [
    "### 4.1.2 이중 연결 리스트의 삽입 알고리즘\n",
    "\n",
    "- 이중 연결 리스트는 링크가 하나 더 추가됐기 때문에 삽입과 삭제 알고리즘도 단일 연결 리스트와는 조금 다르다."
   ]
  },
  {
   "cell_type": "code",
   "execution_count": 15,
   "metadata": {},
   "outputs": [],
   "source": [
    "class Node:\n",
    "    def __init__(self, data, next=None, prev=None):\n",
    "        self.data = data\n",
    "        self.next = next\n",
    "        self.prev = prev\n",
    "        \n",
    "def init_list():\n",
    "    global node_A\n",
    "    node_A = Node(\"A\")\n",
    "    node_B = Node(\"B\")\n",
    "    node_D = Node(\"D\")\n",
    "    node_E = Node(\"E\")\n",
    "    node_A.next = node_B\n",
    "    node_B.next = node_D\n",
    "    node_B.prev = node_A\n",
    "    node_D.next = node_E\n",
    "    node_D.prev = node_B\n",
    "    node_E.prev = node_D\n",
    "\n",
    "def insert_node(data):\n",
    "    global node_A\n",
    "    \n",
    "    new_node = Node(data) ## 새로운 데이터 만들기\n",
    "    \n",
    "    node_P = node_A ## 데이터 위치 찾기 위한 초기값 설정 \n",
    "    node_T = node_A\n",
    "    while node_T.data <= data:\n",
    "        node_P = node_T\n",
    "        node_T = node_T.next ## node_P와 node_T사이에 추가\n",
    "        \n",
    "    new_node.next = node_T ## 데이터 삽입\n",
    "    node_P.next = new_node ## 링크 연결하기\n",
    "    new_node.prev = node_P\n",
    "    node_T.prev = new_node\n",
    "\n",
    "def print_list():\n",
    "    global node_A\n",
    "    node = node_A\n",
    "    while node:\n",
    "        print(node.data)\n",
    "        node = node.next"
   ]
  },
  {
   "cell_type": "code",
   "execution_count": 19,
   "metadata": {},
   "outputs": [
    {
     "name": "stdout",
     "output_type": "stream",
     "text": [
      "연결 리스트 초기화 후\n",
      "A\n",
      "B\n",
      "D\n",
      "E\n",
      "노드 C의 추가 후\n",
      "A\n",
      "B\n",
      "C\n",
      "D\n",
      "E\n"
     ]
    }
   ],
   "source": [
    "print(\"연결 리스트 초기화 후\")\n",
    "init_list()\n",
    "print_list()\n",
    "print(\"노드 C의 추가 후\")\n",
    "insert_node(\"C\")\n",
    "print_list()"
   ]
  },
  {
   "cell_type": "markdown",
   "metadata": {},
   "source": [
    "### 4.1.3 이중 연결 리스트의 삭제 알고리즘\n",
    "\n",
    "- 이중 연결 리스트라 하더라도 기본적인 알고리즘은 단일 연결리스트의 경우와 다르지 않으며 단순히 prev 링크에 대해서만 몇 가지 고려해주면 된다."
   ]
  },
  {
   "cell_type": "code",
   "execution_count": 29,
   "metadata": {},
   "outputs": [],
   "source": [
    "class Node:\n",
    "    def __init__(self, data, next=None, prev=None):\n",
    "        self.data = data\n",
    "        self.next = next\n",
    "        self.prev = prev\n",
    "        \n",
    "def init_list():\n",
    "    global node_A\n",
    "    node_A = Node(\"A\")\n",
    "    node_B = Node(\"B\")\n",
    "    node_D = Node(\"D\")\n",
    "    node_E = Node(\"E\")\n",
    "    node_A.next = node_B\n",
    "    node_B.next = node_D\n",
    "    node_B.prev = node_A\n",
    "    node_D.next = node_E\n",
    "    node_D.prev = node_B\n",
    "    node_E.prev = node_D\n",
    "\n",
    "def insert_node(data):\n",
    "    global node_A\n",
    "    \n",
    "    new_node = Node(data) ## 새로운 데이터 만들기\n",
    "    \n",
    "    node_P = node_A ## 데이터 위치 찾기 위한 초기값 설정 \n",
    "    node_T = node_A\n",
    "    while node_T.data <= data:\n",
    "        node_P = node_T\n",
    "        node_T = node_T.next ## node_P와 node_T사이에 추가\n",
    "        \n",
    "    new_node.next = node_T ## 데이터 삽입\n",
    "    node_P.next = new_node ## 링크 연결하기\n",
    "    new_node.prev = node_P\n",
    "    node_T.prev = new_node\n",
    "    \n",
    "def delete_node(del_data):\n",
    "    global node_A\n",
    "    pre_node = node_A\n",
    "    next_node = pre_node.next\n",
    "    if pre_node.data == del_data: ## 지우는 데이터가 처음 데이터일때 예외처리\n",
    "        node_A = next_node\n",
    "        del pre_node\n",
    "        return\n",
    "    while next_node: ## 참고. 변수의 주소를 공유하고 있음\n",
    "        if next_node.data == del_data:\n",
    "            next_next_node = next_node.next\n",
    "            pre_node.next = next_node.next\n",
    "            next_next_node.prev = next_node.prev\n",
    "            del next_node\n",
    "            break\n",
    "        pre_node = next_node\n",
    "        next_node = next_node.next\n",
    "            \n",
    "\n",
    "def print_list():\n",
    "    global node_A\n",
    "    node = node_A\n",
    "    while node:\n",
    "        print(node.data)\n",
    "        node = node.next"
   ]
  },
  {
   "cell_type": "code",
   "execution_count": 30,
   "metadata": {},
   "outputs": [
    {
     "name": "stdout",
     "output_type": "stream",
     "text": [
      "연결 리스트 초기화 후\n",
      "A\n",
      "B\n",
      "D\n",
      "E\n",
      "노드 C의 추가 후\n",
      "A\n",
      "B\n",
      "C\n",
      "D\n",
      "E\n",
      "노드 D의 삭제 후\n",
      "A\n",
      "B\n",
      "C\n",
      "E\n"
     ]
    }
   ],
   "source": [
    "print(\"연결 리스트 초기화 후\")\n",
    "init_list()\n",
    "print_list()\n",
    "print(\"노드 C의 추가 후\")\n",
    "insert_node(\"C\")\n",
    "print_list()\n",
    "print(\"노드 D의 삭제 후\")\n",
    "delete_node(\"D\")\n",
    "print_list()"
   ]
  },
  {
   "cell_type": "markdown",
   "metadata": {},
   "source": [
    "- 중요한 부분은 삽입 알고리즘과 마찬가지로 next와 prev 링크에 대한 처리부분이다.\n",
    "\n",
    "\n",
    "- 이것으로 연결 리스트에 대한 개념과 삽입/삭제 알고리즘에 대한 모든 내용을 배웠다. 사실 원형 연결 리스트는 단일 연결 리스트와 이중 연결 리스트의 개념과 기능을 모두 이해했다면 별로 공부할 내용이 없다. 원형 연결 리스트는 마지막 노드가 처음 노드를 가르킨다는 것만 다르다."
   ]
  },
  {
   "cell_type": "markdown",
   "metadata": {},
   "source": [
    "- 일단 책에 있는 그대로 코딩을 하면 \"E\"를 지울 수 없다.\n",
    "- 책에 오탈자가 많이 있지만 정오표가 있지 않아 오탈자 부분은 임의로 수정해서 코딩을 해야겠다."
   ]
  },
  {
   "cell_type": "markdown",
   "metadata": {},
   "source": [
    "## 4.2 정리"
   ]
  },
  {
   "cell_type": "markdown",
   "metadata": {},
   "source": [
    "- 연결 리스트는 링크가 하나만 존재하는 단일 연결 리스트와 링크가 2개 존재하는 이중 연결 리스트가 존재한다.\n",
    "- 이중 연결 리스트의 장점은 한 방향으로만 탐색이 가능한 단일 연결 리스트에 비해 언제, 어디에서도 양쪽 방향으로 탐색이 가능하여 전체적인 탐색 시간을 줄일 수 있다(?)는 장점이 있다. 그에 비해 새로운 노드의 삽입과 삭제를 할 때 코드가 복잡해진다는 단점이 존재한다."
   ]
  }
 ],
 "metadata": {
  "kernelspec": {
   "display_name": "Python 3",
   "language": "python",
   "name": "python3"
  },
  "language_info": {
   "codemirror_mode": {
    "name": "ipython",
    "version": 3
   },
   "file_extension": ".py",
   "mimetype": "text/x-python",
   "name": "python",
   "nbconvert_exporter": "python",
   "pygments_lexer": "ipython3",
   "version": "3.6.4"
  }
 },
 "nbformat": 4,
 "nbformat_minor": 2
}
