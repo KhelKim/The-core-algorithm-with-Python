{
 "cells": [
  {
   "cell_type": "markdown",
   "metadata": {},
   "source": [
    "필수알고리즘with파이썬_11\n",
    "============"
   ]
  },
  {
   "cell_type": "markdown",
   "metadata": {},
   "source": [
    "# LESSON 11 병합, 힙 정렬 알고리즘\n",
    "10.1 병합 정렬 알고리즘(Merge Sort Algorithm)  \n",
    "10.2 병합 정렬 알고리즘의 분석  \n",
    "10.3 힙 정렬 알고리즘(Heap Sort Algorithm)  \n",
    "10.4 힙 정렬 알고리즘의 분석  \n",
    "10.5 정리  "
   ]
  },
  {
   "cell_type": "markdown",
   "metadata": {},
   "source": [
    "## 10.1 병합 정렬 알고리즘(Merge Sort Algorithm)\n",
    "- 병합 정렬 알고리즘은 이미 정렬되어 있는 데이터의 그룹 혹은 묶음들을 하나로 합칠 때 사용하는 알고리즘이다.\n",
    "- 서로 다른 데이터 그룹을 하나로 합치는 데이터 그룹의 개수에 따라 병합 정렬 알고리즘은 3-way 병합 정렬 알고리즘, 2-way 병합 정렬 알고리즘 등이 있다.\n",
    "- 병합 정렬 알고리즘은 데이터들을 작은 데이터 그룹으로 쪼개어 정렬한 후에 병합하는 방식을 사용한다.\n",
    "![](./images/병합정렬알고리즘.png)\n",
    "\n",
    "애니메이션 참고\n",
    "http://ejklike.github.io/2017/03/04/sorting-algorithms-with-python.html"
   ]
  },
  {
   "cell_type": "code",
   "execution_count": 1,
   "metadata": {},
   "outputs": [],
   "source": [
    "def merge_sort(mylist):\n",
    "    if len(mylist) <= 1: return mylist ## 재귀함수 탈출 조건\n",
    "    else:\n",
    "        half  = len(mylist) // 2 ## 쪼개는 기준 점\n",
    "        left_list = merge_sort(mylist[:half]) ## 쪼개 쪼개\n",
    "        right_list = merge_sort(mylist[half:]) ## 쪼개 쪼개\n",
    "        \n",
    "        merged_list = []\n",
    "        while len(left_list) > 0 and len(right_list) > 0:\n",
    "            if left_list[0] > right_list[0]:\n",
    "                merged_list.append(right_list[0]) # 큐를 이용한 merge\n",
    "                right_list.pop(0)\n",
    "            else:\n",
    "                merged_list.append(left_list[0])\n",
    "                left_list.pop(0)\n",
    "        if len(left_list) > 0: merged_list += left_list\n",
    "        if len(right_list) > 0: merged_list += right_list\n",
    "            \n",
    "        return merged_list"
   ]
  },
  {
   "cell_type": "code",
   "execution_count": 2,
   "metadata": {},
   "outputs": [
    {
     "name": "stdout",
     "output_type": "stream",
     "text": [
      "정렬할 데이터의 수: 100\n",
      "Before Sort\n",
      "[70, 54, 68, 30, 70, 65, 74, 73, 78, 15, 45, 16, 28, 17, 57, 16, 39, 1, 93, 44, 12, 29, 75, 86, 17, 39, 55, 82, 41, 44, 93, 7, 54, 25, 50, 20, 36, 89, 99, 83, 6, 25, 41, 49, 42, 51, 90, 64, 71, 56, 46, 30, 27, 23, 94, 49, 25, 98, 20, 81, 12, 64, 79, 62, 73, 68, 44, 28, 56, 6, 30, 70, 51, 94, 94, 68, 56, 74, 23, 18, 84, 99, 68, 67, 96, 35, 51, 70, 1, 74, 56, 27, 18, 59, 86, 73, 46, 33, 60, 80]\n",
      "After Sort\n",
      "[1, 1, 6, 6, 7, 12, 12, 15, 16, 16, 17, 17, 18, 18, 20, 20, 23, 23, 25, 25, 25, 27, 27, 28, 28, 29, 30, 30, 30, 33, 35, 36, 39, 39, 41, 41, 42, 44, 44, 44, 45, 46, 46, 49, 49, 50, 51, 51, 51, 54, 54, 55, 56, 56, 56, 56, 57, 59, 60, 62, 64, 64, 65, 67, 68, 68, 68, 68, 70, 70, 70, 70, 71, 73, 73, 73, 74, 74, 74, 75, 78, 79, 80, 81, 82, 83, 84, 86, 86, 89, 90, 93, 93, 94, 94, 94, 96, 98, 99, 99]\n"
     ]
    }
   ],
   "source": [
    "import random\n",
    "\n",
    "list = []\n",
    "input_n = int(input(\"정렬할 데이터의 수: \"))\n",
    "\n",
    "for  i in range(input_n):\n",
    "    list.append(random.randint(1, input_n))\n",
    "    \n",
    "print(\"Before Sort\")\n",
    "print(list)\n",
    "\n",
    "print(\"After Sort\")\n",
    "print(merge_sort(list))"
   ]
  },
  {
   "cell_type": "markdown",
   "metadata": {},
   "source": [
    "## 10.2 병합 정렬 알고리즘의 분석\n",
    "1. 시간의 효율성  \n",
    "병합 정렬 알고리즘 O 표기법에 의하면 O(N\\times logN)의 실행 시간을 갖는다. 다른 정렬 알고리즘들이 O(N^2)의 실행 시간을 갖는데 비해서 보면 상당히 빠른 정렬 알고리즘이다. 그러나 최악의 경우와 같이 이미 정렬이 되어 있는 상태에서는 성능이 저하된다. 그러나 최악의 경우에는 퀵 정렬 알고리즘보다는 낫다.\n",
    "2. 공간의 효율성  \n",
    "병합 정렬 알고리즘의 가장 큰 단점이 원래의 데이터 공간 이외에 별도의 데이터 공간이 필요하다는  점이다. 이러한 단점을 극복하는 방법으로는 데이터들을 연결 리스트로 만든 후에 병합 정렬 알고리즘을 사용하는 방법도 있다.\n",
    "3. 코드의 효율성  \n",
    "병합 정렬 알고리즘은 보통의 경우 재귀 호출을 사용한다. 퀵 정렬 알고리즘과 같은 장, 단점을 가지고 있다."
   ]
  },
  {
   "cell_type": "markdown",
   "metadata": {},
   "source": [
    "## 10.3 힙 정렬 알고리즘(Heap Sort Algorithm)\n"
   ]
  },
  {
   "cell_type": "markdown",
   "metadata": {},
   "source": [
    "- 힙 정렬 알고리즘은 일반 사용자들이 선호하지는 않지만 운영체제나 네트워크 등 시스템 내부에서 많이 사용하는 알고리즘이다. \n",
    "- 힙 정렬 알고리즘은 __우선순위 큐(Priority Queue)__를 이용하여 우선순위에 따라 정렬하는 알고리즘이다. 여기서 다루는 우선순위 큐는 앞에서 배운 큐와는 다르다.\n",
    "- 우선순위 큐는 가장 앞쪽(혹은 뒤쪽)에 있는 데이터가 가장 큰 값을 갖는 데이터가 되어야 한다. 그 외에 다른 데이터들은 어떻게 정렬이 되어 있던지 상관없다.\n",
    "![](./images/우선순위큐.png)   \n",
    "\n",
    "\n",
    "\n",
    "<br><br>\n",
    "- 주어진 리스트에 따른 힙 트리의 구성 방식\n",
    "![](./images/힙정렬알고리즘.png)\n",
    "- 3에서 4로 넘어갈 때의 교환이 힘 트리의 관건인다.\n",
    "<br>\n",
    " \n",
    "- 코드를 보자(책 코드는 제대로 돌아가지 않는다). 참고 사이트  https://ratsgo.github.io/data%20structure&algorithm/2017/09/27/heapsort/"
   ]
  },
  {
   "cell_type": "code",
   "execution_count": 3,
   "metadata": {},
   "outputs": [],
   "source": [
    "def left_node(idx): ##한 배열을 트리로 바꿀 때, 어떤 노드의 인덱스가 주어지면 그 때의 왼쪽 자식노드의 인덱스\n",
    "    return ((idx + 1) << 1) - 1 ## (idx + 1) * 2 -1\n",
    "\n",
    "def right_node(idx): ##한 배열을 트리로 바꿀 때, 어떤 노드의 인덱스가 주어지면 그 때의 오른쪽자식노드의 인덱스\n",
    "    return (idx + 1) << 1\n",
    "\n",
    "## 한 배열이 주어졌을 때, 그 배열을 힙 성질에 맞춰서 배열을 구성하게 하는 함수를\n",
    "## 정의하자.\n",
    "\n",
    "def heapify(unsorted, index, heap_size):\n",
    "    largest = index\n",
    "    l_node = left_node(index) ## 왼쪽 자식노드 인덱스\n",
    "    r_node = right_node(index) ## 오른쪽 자식노드 인덱스\n",
    "    \n",
    "    if l_node < heap_size and unsorted[l_node] > unsorted[largest]: ## 왼쪽이 크면  왼쪽을 최대값으로\n",
    "        largest = l_node\n",
    "    if r_node < heap_size and unsorted[r_node] > unsorted[largest]: ## 오른쪽이 크면 오른쪽을 최대값으로\n",
    "        largest = r_node\n",
    "        \n",
    "    if largest != index:\n",
    "        unsorted[largest], unsorted[index] = unsorted[index], unsorted[largest] ## 바꾸기!!\n",
    "        heapify(unsorted, largest, heap_size) ## 재귀적으로 실행함\n",
    "                                                                    ## 힙 트리 구조를 아래부터 생성할거임\n",
    "    \n",
    "def heap_sort(unsorted):\n",
    "    n = len(unsorted)\n",
    "    \n",
    "    for i in reversed(range(n // 2)): ## 주어진 배열을 힙 트리 구조로 만듦\n",
    "        heapify(unsorted, i, n)\n",
    "\n",
    "    tmp = []\n",
    "    for i in range(n):\n",
    "        tmp.append(unsorted.pop(0)) ## 제일 큰 값을 집어넣음\n",
    "        if unsorted != []:\n",
    "            unsorted = unsorted[-1:] +unsorted[:-1] ## 맨 아래 있는 데이터를 맨 위로 옮김\n",
    "        heapify(unsorted, 0, len(unsorted) - 1) ## 맨 위에 있는(새로이 옮겨진) 데이터를 적절한 자리로 옮김\n",
    "    \n",
    "    return tmp"
   ]
  },
  {
   "cell_type": "code",
   "execution_count": 4,
   "metadata": {},
   "outputs": [
    {
     "name": "stdout",
     "output_type": "stream",
     "text": [
      "정렬할 데이터의 수: 100\n",
      "Before Sort\n",
      "[5, 37, 90, 98, 19, 60, 48, 86, 90, 13, 59, 77, 64, 78, 3, 66, 56, 74, 48, 80, 71, 97, 56, 51, 23, 8, 14, 16, 49, 20, 13, 21, 66, 64, 17, 99, 50, 77, 65, 35, 74, 24, 49, 9, 7, 75, 8, 24, 8, 22, 38, 36, 10, 67, 80, 14, 75, 84, 84, 87, 8, 13, 80, 59, 83, 93, 43, 43, 68, 86, 90, 57, 22, 17, 11, 100, 41, 7, 76, 35, 48, 94, 24, 87, 78, 10, 71, 85, 15, 39, 64, 100, 94, 47, 92, 56, 6, 61, 54, 78]\n",
      "After Sort\n",
      "[100, 100, 99, 98, 97, 94, 94, 93, 92, 90, 90, 90, 87, 87, 86, 86, 85, 84, 84, 83, 80, 80, 80, 78, 78, 78, 77, 77, 76, 75, 75, 74, 74, 71, 71, 68, 67, 66, 66, 65, 64, 64, 64, 61, 60, 59, 59, 57, 56, 56, 56, 54, 51, 50, 49, 49, 48, 48, 48, 47, 43, 43, 41, 39, 38, 37, 36, 35, 35, 24, 24, 24, 23, 22, 22, 21, 20, 19, 17, 17, 16, 15, 14, 14, 13, 13, 13, 11, 10, 10, 9, 8, 8, 8, 8, 7, 7, 6, 5, 3]\n"
     ]
    }
   ],
   "source": [
    "import random\n",
    "\n",
    "list = []\n",
    "input_n = int(input(\"정렬할 데이터의 수: \"))\n",
    "\n",
    "for  i in range(input_n):\n",
    "    list.append(random.randint(1, input_n))\n",
    "    \n",
    "print(\"Before Sort\")\n",
    "print(list)\n",
    "\n",
    "print(\"After Sort\")\n",
    "print(heap_sort(list))"
   ]
  },
  {
   "cell_type": "markdown",
   "metadata": {},
   "source": [
    "## 10.4 힙 정렬 알고리즘의 분석"
   ]
  },
  {
   "cell_type": "markdown",
   "metadata": {},
   "source": [
    "1. 시간의 효율성  \n",
    "힙 정렬 알고리즘은 O(N \\times log_2N)의 성능을 갖고 있다. 퀵 정렬과 비슷한 성능을 보여주지만 데이터를 힙 구조로 재구성하는 과정이 실행되기 때문에 실제 성능은 퀵 알고리즘보다 떨어진다.\n",
    "2. 공간의 효율성  \n",
    "힙 정렬 알고리즘은 트리 구조를 사용할 수 있다는 점과 리스트를 사용해서도 구현이 가능하다는 점에서 공간 효율성이 뛰어나다고 볼 수 있다."
   ]
  },
  {
   "cell_type": "markdown",
   "metadata": {},
   "source": [
    "## 10.5 정리"
   ]
  },
  {
   "cell_type": "markdown",
   "metadata": {},
   "source": [
    "- 이번 Lesson에서는 고급 정렬 알고리즘의 마지막에 해당하는 병합 정렬 알고리즘과 힙 정렬 알고리즘에 대해 알아보았다.\n",
    "- 두 알고리즘 모두 자주 쓰인다. 특히 힙 알고리즘은 운영체제나 네트워크와 같은 시스템 레벨에서 자주 사용된다."
   ]
  }
 ],
 "metadata": {
  "kernelspec": {
   "display_name": "Python 3",
   "language": "python",
   "name": "python3"
  },
  "language_info": {
   "codemirror_mode": {
    "name": "ipython",
    "version": 3
   },
   "file_extension": ".py",
   "mimetype": "text/x-python",
   "name": "python",
   "nbconvert_exporter": "python",
   "pygments_lexer": "ipython3",
   "version": "3.6.4"
  }
 },
 "nbformat": 4,
 "nbformat_minor": 2
}
