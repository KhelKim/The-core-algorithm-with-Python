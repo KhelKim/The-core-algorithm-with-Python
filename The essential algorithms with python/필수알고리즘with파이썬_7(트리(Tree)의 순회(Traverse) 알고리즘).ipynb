{
 "cells": [
  {
   "cell_type": "markdown",
   "metadata": {},
   "source": [
    "필수알고리즘with파이썬_7\n",
    "================"
   ]
  },
  {
   "cell_type": "markdown",
   "metadata": {},
   "source": [
    "# LESSON 07 트리(Tree)의 순회(Traverse) 알고리즘\n",
    "7.1 트리 순회 알고리즘의 종류  \n",
    "7.2 전위 순회(Pre-Order Traverse) 알고리즘  \n",
    "7.3 중위 순회(In-Order Traverse) 알고리즘  \n",
    "7.4 후위 순회(Post-Order Traverse) 알고리즘  \n",
    "7.5 단계 순회(Level-Order Traverse) 알고리즘  \n",
    "7.6 전체 코드   \n",
    "7.7 정리\n"
   ]
  },
  {
   "cell_type": "markdown",
   "metadata": {},
   "source": [
    "## 7.1 트리 순회 알고리즘의 종류\n"
   ]
  },
  {
   "attachments": {},
   "cell_type": "markdown",
   "metadata": {},
   "source": [
    "- 트리 구조는 다른 자료 구조보다 자료를 저장하거나 검색하는 등의 방법이 간단하여 메모리를 효율적으로 사용한다.\n",
    "- 트리 구조에서 사용하는 트리 순회 알고리즘은 다음과 같이 4가지 알고리즘이 존재한다.\n",
    "\n",
    "\n",
    "1. 전위 순회(Pre-Order Traverse)\n",
    "2. 중위 순회(In-Order Traverse)\n",
    "3. 후위 순회(Post-Order Traverse)\n",
    "4. 단계 순위 순회(Level-Order Traverse)\n",
    "\n",
    "![%EC%88%9C%ED%9A%8C%EC%95%8C%EA%B3%A0%EB%A6%AC%EC%A6%98.png](./images/순회알고리즘.png)\n",
    "\n",
    "1. 전위 순회는 A -> B -> D -> E -> C -> F -> G의 순서로 방문하게 된다.\n",
    "2. 중위 순회는 D -> B -> E -> A -> F -> C -> G의 순서로 방문하게 된다.\n",
    "3. 후위 순회는 D -> E -> B -> F -> G -> C -> A의 순서로 방문하게 된다.\n",
    "4. 단계 순위 순회는 A -> B -> C -> D -> E -> F -> G의 순서로 방문하게 된다.\n",
    "\n",
    "\n",
    "- 먼저 트리 구조에서 사용할 노드에 대한 자료형을 만들어야 한다."
   ]
  },
  {
   "cell_type": "code",
   "execution_count": 1,
   "metadata": {},
   "outputs": [],
   "source": [
    "## 노드 클래스\n",
    "class Node:\n",
    "    def __init__(self, data):\n",
    "        self.data = data\n",
    "        self.left = None\n",
    "        self.right = None"
   ]
  },
  {
   "cell_type": "code",
   "execution_count": 2,
   "metadata": {},
   "outputs": [],
   "source": [
    "## 그림과 같은 초기 트리 구성 함수\n",
    "def init_tree():\n",
    "    global root\n",
    "    \n",
    "    new_node = Node(\"A\")\n",
    "    root = new_node\n",
    "    new_node = Node(\"B\")\n",
    "    root.left = new_node\n",
    "    new_node = Node(\"C\")\n",
    "    root.right = new_node\n",
    "    \n",
    "    node = root.left\n",
    "    new_node = Node(\"D\")\n",
    "    node.left = new_node\n",
    "    new_node = Node(\"E\")\n",
    "    node.right = new_node\n",
    "    \n",
    "    node = root.right\n",
    "    new_node = Node(\"F\")\n",
    "    node.left = new_node\n",
    "    new_node = Node(\"G\")\n",
    "    node.right = new_node"
   ]
  },
  {
   "cell_type": "markdown",
   "metadata": {},
   "source": [
    "- 이제 각각의 트리 순회 알고리즘의 구체적인 사용 방법과 차이점에 대해서 알아보자."
   ]
  },
  {
   "cell_type": "markdown",
   "metadata": {},
   "source": [
    "## 7.2 전위 순회(Pre-Order Traverse) 알고리즘\n"
   ]
  },
  {
   "attachments": {},
   "cell_type": "markdown",
   "metadata": {},
   "source": [
    "- 트리 구조를 순회하기 위해 반드시 지켜야 할 기본적인 규칙은 \"노드는 오직 한번만 방문한다\"이다. 트리 구조에서 트리 구조를 순회나는 방법에는 가운데 노드를 몬저 방문하고 그 다음에는 왼쪽 노드를 방문하고 그리고 나서 오른쪽 노드를 방문하는 방법이다.\n",
    "\n",
    "![%EC%88%9C%ED%9A%8C%EC%95%8C%EA%B3%A0%EB%A6%AC%EC%A6%98.png](./images/순회알고리즘.png)\n",
    "\n",
    "1. __전위 순회는 A -> B -> D -> E -> C -> F -> G의 순서로 방문하게 된다.__\n",
    "2. 중위 순회는 D -> B -> E -> A -> F -> C -> G의 순서로 방문하게 된다.\n",
    "3. 후위 순회는 D -> E -> B -> F -> G -> C -> A의 순서로 방문하게 된다.\n",
    "4. 단계 순위 순회는 A -> B -> C -> D -> E -> F -> G의 순서로 방문하게 된다."
   ]
  },
  {
   "cell_type": "markdown",
   "metadata": {},
   "source": [
    "- 전위 순회, 중위 순회, 후위 순회 알고리즘은 스택을 사용하고 단계 순위 순회 알고리즘은 큐를 사용한다."
   ]
  },
  {
   "cell_type": "markdown",
   "metadata": {},
   "source": [
    "제너레이터를 쓰지 않고 객체로 출력하기"
   ]
  },
  {
   "cell_type": "code",
   "execution_count": 3,
   "metadata": {},
   "outputs": [],
   "source": [
    "def preorder_traverse(node, container=[]):    \n",
    "    if node == None: return\n",
    "    container.append(node.data)\n",
    "    preorder_traverse(node.left, container)\n",
    "    preorder_traverse(node.right, container)\n",
    "    return container"
   ]
  },
  {
   "cell_type": "markdown",
   "metadata": {},
   "source": [
    "yield를 이용해서 제너레이터로 출력하기"
   ]
  },
  {
   "cell_type": "code",
   "execution_count": 4,
   "metadata": {},
   "outputs": [],
   "source": [
    "def preorder_traverse(node):    \n",
    "    if node == None: return\n",
    "    yield node.data\n",
    "    yield from preorder_traverse(node.left)\n",
    "    yield from preorder_traverse(node.right)"
   ]
  },
  {
   "cell_type": "code",
   "execution_count": 5,
   "metadata": {},
   "outputs": [
    {
     "name": "stdout",
     "output_type": "stream",
     "text": [
      "A\n",
      "B\n",
      "D\n",
      "E\n",
      "C\n",
      "F\n",
      "G\n"
     ]
    }
   ],
   "source": [
    "init_tree()\n",
    "for i in preorder_traverse(root):\n",
    "    print(i)"
   ]
  },
  {
   "cell_type": "markdown",
   "metadata": {},
   "source": [
    "#  기회가 됐으니 제너레이터 사용 방법을 배워보자!(generator)  \n",
    "참고 사이트 https://dojang.io/mod/page/view.php?id=2412  \n",
    "\n",
    "제너레이터(generator)는 이터레이터(iterator)를 생성해주는 함수이다. 제너레이터는 함수 안에서 yield라는 키워드만 사용하면 된다(yield라는 키워드가 하나라도 있으면 제너레이터가 된다).   "
   ]
  },
  {
   "cell_type": "code",
   "execution_count": 6,
   "metadata": {},
   "outputs": [
    {
     "name": "stdout",
     "output_type": "stream",
     "text": [
      "0\n",
      "1\n",
      "2\n"
     ]
    }
   ],
   "source": [
    "def number_generator():\n",
    "    yield 0\n",
    "    yield 1\n",
    "    yield 2\n",
    "    \n",
    "for i in number_generator():\n",
    "    print(i)"
   ]
  },
  {
   "cell_type": "markdown",
   "metadata": {},
   "source": [
    "### yield의 동작 과정 알아보기"
   ]
  },
  {
   "cell_type": "code",
   "execution_count": 7,
   "metadata": {},
   "outputs": [
    {
     "name": "stdout",
     "output_type": "stream",
     "text": [
      "0\n",
      "1\n",
      "2\n"
     ]
    }
   ],
   "source": [
    "def number_generator():\n",
    "    yield 0 # 0을 함수 바깥으로 전달하면서 코드 실행을 함수 바깥에 양보\n",
    "    yield 1 # 1을 함수 바깥으로 전달하면서 코드 실행을 함수 바깥에 양보\n",
    "    yield 2 # 2을 함수 바깥으로 전달하면서 코드 실행을 함수 바깥에 양보\n",
    "    \n",
    "g = number_generator()\n",
    "\n",
    "a = next(g)\n",
    "print(a)\n",
    "\n",
    "b = next(g)\n",
    "print(b)\n",
    "\n",
    "c = next(g)\n",
    "print(c)"
   ]
  },
  {
   "cell_type": "markdown",
   "metadata": {},
   "source": [
    "참고사이트에 정말 좋은 그림이 있었다."
   ]
  },
  {
   "attachments": {},
   "cell_type": "markdown",
   "metadata": {},
   "source": [
    "![yield.png](./images/yield.png)"
   ]
  },
  {
   "cell_type": "markdown",
   "metadata": {},
   "source": [
    "그림을 보게 되면 yield의 동작원리를 쉽게 알 수 있다.  \n",
    "~~~\n",
    "a = next(g)\n",
    "~~~ \n",
    "가 실행되면 g에서 첫 yield를 실행하고 g는 대기상태가 된다.\n",
    "그 후에 함수 바깥으로 0을 전달하고 실행을 양보한다.  \n",
    "그렇게 되면서 print(a)가 동작 할 수 있고, b=next(g)가 동작할 수 있게 된다.  \n",
    "~~~\n",
    "b = nex(g)\n",
    "~~~\n",
    "가 실행되면 함수는 대기 상태에서 yield 0 이후 코드를 실행한다.\n",
    "\n",
    "같은 방식으로 계속 진행되는 것을 볼 수 있다."
   ]
  },
  {
   "cell_type": "markdown",
   "metadata": {},
   "source": [
    "### 제너레이터 만들기"
   ]
  },
  {
   "cell_type": "code",
   "execution_count": 8,
   "metadata": {},
   "outputs": [
    {
     "name": "stdout",
     "output_type": "stream",
     "text": [
      "0\n",
      "1\n",
      "2\n"
     ]
    }
   ],
   "source": [
    "def number_generator(stop):\n",
    "    n = 0\n",
    "    while n < stop:\n",
    "        yield n\n",
    "        n += 1\n",
    "        \n",
    "for i in  number_generator(3):\n",
    "    print(i)"
   ]
  },
  {
   "cell_type": "markdown",
   "metadata": {},
   "source": [
    "이 경우는 함수 안에서  n = 0가 선언된 이후에 while문에 들어가지만 동작 원리는 위와 같다.  \n",
    "~~~\n",
    "for i in number_generator(3):\n",
    "    print(i)\n",
    "~~~\n",
    "가 실행되면 number_generator(3)이 실행된다. \n",
    "- 그러면 n = 0이 선언된 후에 while문에 진입하고 yield n 이 실행된다. \n",
    "- 그 후에 number_generator()를 빠져나오고, i에 n이 입력되고 print(i)를 만나 0이 출력된다. \n",
    "- 그 후 for문을 다시 들어가서 number_generator()에 yield n 다음 코드가 실행된다. \n",
    "- 그러면 n = 1이 되고 while문 안으로 다시 들어간다."
   ]
  },
  {
   "cell_type": "markdown",
   "metadata": {},
   "source": [
    "### yield에서 함수 호출하기"
   ]
  },
  {
   "cell_type": "code",
   "execution_count": 9,
   "metadata": {},
   "outputs": [
    {
     "name": "stdout",
     "output_type": "stream",
     "text": [
      "APPLE\n",
      "PEAR\n",
      "GRAPE\n",
      "PINEAPPLE\n",
      "ORANGE\n"
     ]
    }
   ],
   "source": [
    "def upper_generator(x):\n",
    "    for i in x:\n",
    "        yield i.upper()\n",
    "        \n",
    "fruits = ['apple','pear','grape','pineapple','orange']\n",
    "for i in upper_generator(fruits):\n",
    "    print(i)"
   ]
  },
  {
   "cell_type": "markdown",
   "metadata": {},
   "source": [
    "yield안에 함수를 넣어도 된다."
   ]
  },
  {
   "cell_type": "markdown",
   "metadata": {},
   "source": [
    "### yield from으로 값을 여러 번 바깥으로 전달하기\n",
    "지금까지 값을 여러 번 바깥으로 전달할 떄는 for 또는 while 반복문으로 반복하면서 yield를 사용했다."
   ]
  },
  {
   "cell_type": "code",
   "execution_count": 10,
   "metadata": {},
   "outputs": [
    {
     "name": "stdout",
     "output_type": "stream",
     "text": [
      "APPLE\n",
      "PEAR\n",
      "GRAPE\n",
      "PINEAPPLE\n",
      "ORANGE\n"
     ]
    }
   ],
   "source": [
    "def upper_generator(x):\n",
    "    for i in x:\n",
    "        yield i.upper()\n",
    "        \n",
    "fruits = ['apple','pear','grape','pineapple','orange']\n",
    "for i in upper_generator(fruits):\n",
    "    print(i)"
   ]
  },
  {
   "cell_type": "markdown",
   "metadata": {},
   "source": [
    "이런 경우에는 매번 반복문을 사용하지 않고, yield from을 사용한다. yield from에는 반복 가능한 객체, 이터레이터, 제너레이터 객체를 지정한다(파이썬 3.3 이상부터 사용 가능).  \n",
    "- yield from 반복가능한 객체\n",
    "- yield from 이터레이터\n",
    "- yield from 제너레이터 객체"
   ]
  },
  {
   "cell_type": "code",
   "execution_count": 11,
   "metadata": {},
   "outputs": [
    {
     "name": "stdout",
     "output_type": "stream",
     "text": [
      "APPLE\n",
      "PEAR\n",
      "GRAPE\n",
      "PINEAPPLE\n",
      "ORANGE\n"
     ]
    }
   ],
   "source": [
    "def upper_generator(x):\n",
    "    x = list(map(lambda x: x.upper(), x))\n",
    "    yield from x\n",
    "        \n",
    "fruits = ['apple','pear','grape','pineapple','orange']\n",
    "for i in upper_generator(fruits):\n",
    "    print(i)"
   ]
  },
  {
   "cell_type": "markdown",
   "metadata": {},
   "source": [
    "yield from에 제너레이터 객체 지정하기"
   ]
  },
  {
   "cell_type": "code",
   "execution_count": 12,
   "metadata": {},
   "outputs": [
    {
     "name": "stdout",
     "output_type": "stream",
     "text": [
      "0\n",
      "1\n",
      "2\n"
     ]
    }
   ],
   "source": [
    "def number_generator(stop):\n",
    "    n = 0\n",
    "    while n < stop:\n",
    "        yield n\n",
    "        n += 1\n",
    "    \n",
    "def three_generator():\n",
    "    yield from number_generator(3)\n",
    "    \n",
    "for i in three_generator():\n",
    "    print(i)"
   ]
  },
  {
   "cell_type": "markdown",
   "metadata": {},
   "source": [
    "## 7.3 중위 순회(In-Order Traverse) 알고리즘\n"
   ]
  },
  {
   "attachments": {},
   "cell_type": "markdown",
   "metadata": {},
   "source": [
    "![%EC%88%9C%ED%9A%8C%EC%95%8C%EA%B3%A0%EB%A6%AC%EC%A6%98.png](./images/순회알고리즘.png)\n",
    "\n",
    "1. 전위 순회는 A -> B -> D -> E -> C -> F -> G의 순서로 방문하게 된다.\n",
    "2. __중위 순회는 D -> B -> E -> A -> F -> C -> G의 순서로 방문하게 된다.__\n",
    "3. 후위 순회는 D -> E -> B -> F -> G -> C -> A의 순서로 방문하게 된다.\n",
    "4. 단계 순위 순회는 A -> B -> C -> D -> E -> F -> G의 순서로 방문하게 된다."
   ]
  },
  {
   "cell_type": "code",
   "execution_count": 13,
   "metadata": {},
   "outputs": [],
   "source": [
    "def inorder_traverse(node):\n",
    "    if node == None: return\n",
    "    yield from inorder_traverse(node.left)\n",
    "    yield node.data\n",
    "    yield from inorder_traverse(node.right)"
   ]
  },
  {
   "cell_type": "code",
   "execution_count": 14,
   "metadata": {},
   "outputs": [
    {
     "name": "stdout",
     "output_type": "stream",
     "text": [
      "D\n",
      "B\n",
      "E\n",
      "A\n",
      "F\n",
      "C\n",
      "G\n"
     ]
    }
   ],
   "source": [
    "init_tree()\n",
    "for i in inorder_traverse(root):\n",
    "    print(i)"
   ]
  },
  {
   "cell_type": "markdown",
   "metadata": {},
   "source": [
    "## 7.4 후위 순회(Post-Order Traverse) 알고리즘\n"
   ]
  },
  {
   "attachments": {},
   "cell_type": "markdown",
   "metadata": {},
   "source": [
    "![%EC%88%9C%ED%9A%8C%EC%95%8C%EA%B3%A0%EB%A6%AC%EC%A6%98.png](./images/순회알고리즘.png)\n",
    "\n",
    "1. 전위 순회는 A -> B -> D -> E -> C -> F -> G의 순서로 방문하게 된다.\n",
    "2. 중위 순회는 D -> B -> E -> A -> F -> C -> G의 순서로 방문하게 된다.\n",
    "3. __후위 순회는 D -> E -> B -> F -> G -> C -> A의 순서로 방문하게 된다.__\n",
    "4. 단계 순위 순회는 A -> B -> C -> D -> E -> F -> G의 순서로 방문하게 된다."
   ]
  },
  {
   "cell_type": "code",
   "execution_count": 15,
   "metadata": {},
   "outputs": [],
   "source": [
    "def postorder_traverse(node):\n",
    "    if node == None: return\n",
    "    yield from postorder_traverse(node.left)\n",
    "    yield from postorder_traverse(node.right)\n",
    "    yield node.data"
   ]
  },
  {
   "cell_type": "code",
   "execution_count": 16,
   "metadata": {},
   "outputs": [
    {
     "name": "stdout",
     "output_type": "stream",
     "text": [
      "D\n",
      "E\n",
      "B\n",
      "F\n",
      "G\n",
      "C\n",
      "A\n"
     ]
    }
   ],
   "source": [
    "init_tree()\n",
    "for i in postorder_traverse(root):\n",
    "    print(i)"
   ]
  },
  {
   "cell_type": "markdown",
   "metadata": {},
   "source": [
    "## 7.5 단계 순회(Level-Order Traverse) 알고리즘\n"
   ]
  },
  {
   "attachments": {},
   "cell_type": "markdown",
   "metadata": {},
   "source": [
    "![%EC%88%9C%ED%9A%8C%EC%95%8C%EA%B3%A0%EB%A6%AC%EC%A6%98.png](./images/순회알고리즘.png)\n",
    "\n",
    "1. 전위 순회는 A -> B -> D -> E -> C -> F -> G의 순서로 방문하게 된다.\n",
    "2. 중위 순회는 D -> B -> E -> A -> F -> C -> G의 순서로 방문하게 된다.\n",
    "3. 후위 순회는 D -> E -> B -> F -> G -> C -> A의 순서로 방문하게 된다.\n",
    "4. __단계 순위 순회는 A -> B -> C -> D -> E -> F -> G의 순서로 방문하게 된다.__"
   ]
  },
  {
   "cell_type": "markdown",
   "metadata": {},
   "source": [
    "- 단계 순위 순회 알고리즘은 위에서부터 왼쪽, 오른쪽 순서로 차례대로 방문하며 출력하기 때문에 스택보다는 큐를 사용하는 것이 더 바람직하다."
   ]
  },
  {
   "cell_type": "code",
   "execution_count": 17,
   "metadata": {},
   "outputs": [],
   "source": [
    "levelq = []\n",
    "\n",
    "def levelorder_traverse(node):\n",
    "    global levelq\n",
    "    levelq.append(node)\n",
    "    while len(levelq) != 0:\n",
    "        # visit\n",
    "        visit_node = levelq.pop(0)\n",
    "        yield visit_node.data\n",
    "        # chilld put\n",
    "        if visit_node.left != None:\n",
    "            levelq.append(visit_node.left)\n",
    "        if visit_node.left != None:\n",
    "            levelq.append(visit_node.right)"
   ]
  },
  {
   "cell_type": "code",
   "execution_count": 18,
   "metadata": {},
   "outputs": [
    {
     "name": "stdout",
     "output_type": "stream",
     "text": [
      "A\n",
      "B\n",
      "C\n",
      "D\n",
      "E\n",
      "F\n",
      "G\n"
     ]
    }
   ],
   "source": [
    "init_tree()\n",
    "for i in levelorder_traverse(root):\n",
    "    print(i)"
   ]
  },
  {
   "cell_type": "markdown",
   "metadata": {},
   "source": [
    "## 7.6 전체 코드\n"
   ]
  },
  {
   "cell_type": "code",
   "execution_count": 19,
   "metadata": {},
   "outputs": [],
   "source": [
    "## 노드 클래스\n",
    "class Node:\n",
    "    def __init__(self, data):\n",
    "        self.data = data\n",
    "        self.left = None\n",
    "        self.right = None\n",
    "        \n",
    "## 초기 트리 구성 함수\n",
    "def init_tree():\n",
    "    global root\n",
    "    \n",
    "    new_node = Node(\"A\")\n",
    "    root = new_node\n",
    "    new_node = Node(\"B\")\n",
    "    root.left = new_node\n",
    "    new_node = Node(\"C\")\n",
    "    root.right = new_node\n",
    "    \n",
    "    node = root.left\n",
    "    new_node = Node(\"D\")\n",
    "    node.left = new_node\n",
    "    new_node = Node(\"E\")\n",
    "    node.right = new_node\n",
    "    \n",
    "    node = root.right\n",
    "    new_node = Node(\"F\")\n",
    "    node.left = new_node\n",
    "    new_node = Node(\"G\")\n",
    "    node.right = new_node\n",
    "    \n",
    "    \n",
    "def preorder_traverse(node):    \n",
    "    if node == None: return\n",
    "    yield node.data\n",
    "    yield from preorder_traverse(node.left)\n",
    "    yield from preorder_traverse(node.right)\n",
    "    \n",
    "def inorder_traverse(node):\n",
    "    if node == None: return\n",
    "    yield from inorder_traverse(node.left)\n",
    "    yield node.data\n",
    "    yield from inorder_traverse(node.right)\n",
    "    \n",
    "def postorder_traverse(node):\n",
    "    if node == None: return\n",
    "    yield from postorder_traverse(node.left)\n",
    "    yield from postorder_traverse(node.right)\n",
    "    yield node.data\n",
    "    \n",
    "levelq = []\n",
    "\n",
    "def levelorder_traverse(node):\n",
    "    global levelq\n",
    "    levelq.append(node)\n",
    "    while len(levelq) != 0:\n",
    "        # visit\n",
    "        visit_node = levelq.pop(0)\n",
    "        yield visit_node.data\n",
    "        # chilld put\n",
    "        if visit_node.left != None:\n",
    "            levelq.append(visit_node.left)\n",
    "        if visit_node.left != None:\n",
    "            levelq.append(visit_node.right)"
   ]
  },
  {
   "cell_type": "code",
   "execution_count": 20,
   "metadata": {},
   "outputs": [
    {
     "name": "stdout",
     "output_type": "stream",
     "text": [
      "<Preorder Traverse>\n",
      "A\n",
      "B\n",
      "D\n",
      "E\n",
      "C\n",
      "F\n",
      "G\n",
      "<Inorder Traverse>\n",
      "D\n",
      "B\n",
      "E\n",
      "A\n",
      "F\n",
      "C\n",
      "G\n",
      "<Postorder Traverse>\n",
      "D\n",
      "E\n",
      "B\n",
      "F\n",
      "G\n",
      "C\n",
      "A\n",
      "<Levelorder Traverse>\n",
      "A\n",
      "B\n",
      "C\n",
      "D\n",
      "E\n",
      "F\n",
      "G\n"
     ]
    }
   ],
   "source": [
    "print(\"<Preorder Traverse>\")\n",
    "for i in preorder_traverse(root):\n",
    "    print(i)\n",
    "\n",
    "print(\"<Inorder Traverse>\")\n",
    "for i in inorder_traverse(root):\n",
    "    print(i)\n",
    "\n",
    "print(\"<Postorder Traverse>\")\n",
    "for i in postorder_traverse(root):\n",
    "    print(i)\n",
    "\n",
    "print(\"<Levelorder Traverse>\")\n",
    "for i in levelorder_traverse(root):\n",
    "    print(i)\n"
   ]
  },
  {
   "cell_type": "markdown",
   "metadata": {},
   "source": [
    "## 7.7 정리"
   ]
  },
  {
   "cell_type": "markdown",
   "metadata": {},
   "source": [
    "- 이진 트리를 순회하는 알고리즘은 pre-order/in-order/post-order/level-order 순회 알고리즘으로 총 4가지가 있다. 그 각각의 알고리즘들은 재귀적 호출, 스택이나 큐를 사용하여 구현이 가능하다."
   ]
  }
 ],
 "metadata": {
  "kernelspec": {
   "display_name": "Python 3",
   "language": "python",
   "name": "python3"
  },
  "language_info": {
   "codemirror_mode": {
    "name": "ipython",
    "version": 3
   },
   "file_extension": ".py",
   "mimetype": "text/x-python",
   "name": "python",
   "nbconvert_exporter": "python",
   "pygments_lexer": "ipython3",
   "version": "3.6.4"
  }
 },
 "nbformat": 4,
 "nbformat_minor": 2
}
