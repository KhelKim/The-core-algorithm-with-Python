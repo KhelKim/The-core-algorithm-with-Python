{
 "cells": [
  {
   "cell_type": "markdown",
   "metadata": {},
   "source": [
    "숫자 뒤집기\n",
    "=======\n",
    "사용자로부터 입력 받은 데이터를 역순으로 바꾸어 화면에 출력하는 프로그램을 작성해보자. 예를 들어, '123'이 입력되면 화면에는 '321'로 출력하는 프로그램을 생각하면 된다."
   ]
  },
  {
   "cell_type": "markdown",
   "metadata": {},
   "source": [
    "문제 풀이 조건.\n",
    "1. 정수의 자릿수를 계산 하는 방식을 고민해야 한다.\n",
    "2. 이 문제의 경우는 반복문보다는 재귀 호출을 응용하는 것이 간단하다."
   ]
  },
  {
   "cell_type": "code",
   "execution_count": 1,
   "metadata": {},
   "outputs": [],
   "source": [
    "def sol(n):\n",
    "    if n == 0:\n",
    "        return\n",
    "    else:\n",
    "        print(n % 10, end=' ')\n",
    "        sol(n//10)"
   ]
  },
  {
   "cell_type": "code",
   "execution_count": 2,
   "metadata": {},
   "outputs": [
    {
     "name": "stdout",
     "output_type": "stream",
     "text": [
      "3 2 1 "
     ]
    }
   ],
   "source": [
    "a = sol(123)"
   ]
  }
 ],
 "metadata": {
  "kernelspec": {
   "display_name": "Python 3",
   "language": "python",
   "name": "python3"
  },
  "language_info": {
   "codemirror_mode": {
    "name": "ipython",
    "version": 3
   },
   "file_extension": ".py",
   "mimetype": "text/x-python",
   "name": "python",
   "nbconvert_exporter": "python",
   "pygments_lexer": "ipython3",
   "version": "3.6.7"
  }
 },
 "nbformat": 4,
 "nbformat_minor": 2
}
