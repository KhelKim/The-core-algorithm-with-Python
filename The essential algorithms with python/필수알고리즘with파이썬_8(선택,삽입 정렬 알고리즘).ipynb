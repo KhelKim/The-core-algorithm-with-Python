{
 "cells": [
  {
   "cell_type": "markdown",
   "metadata": {},
   "source": [
    "필수알고리즘with파이썬_7\n",
    "========="
   ]
  },
  {
   "cell_type": "markdown",
   "metadata": {},
   "source": [
    "# LESSON 08 선택. 삽입 정렬 알고리즘  \n",
    "8.1 선택 정렬 알고리즘(Selection Sort Algorithm)   \n",
    "8.2 선택 정렬 알고리즘의 분석  \n",
    "8.3 삽입 정렬 알고리즘(Insert Sort Algorithm)    \n",
    "8.4 삽입 정렬 알고맂ㅁ의 실행과 성능    \n",
    "8.5 정리   "
   ]
  },
  {
   "cell_type": "markdown",
   "metadata": {},
   "source": [
    "## 8.1 선택 정렬 알고리즘(Selection Sort Algorithm)\n",
    "- 선택 정렬 알고리즘의 기본 개념은 데이터의 처음부터 끝까지 훑어가면서 가장 작은 값을 찾은 후에 그 값을 첫 번째 데이터와 자리를 바꾸고, 그 다음에 두 번째로 작은 데이터를 찾아서 두 번째의 데이터와 자리를 바꾸는 방법으로 구현되는 정렬 알고리즘이다.\n",
    "\n",
    "![](./images/선택정렬알고리즘.png)"
   ]
  },
  {
   "cell_type": "code",
   "execution_count": 3,
   "metadata": {},
   "outputs": [],
   "source": [
    "def selected_sort(random_list):\n",
    "    for sel in range(len(random_list) - 1): ## 리스트의 처음부터 끝까지 살펴봄\n",
    "        min = random_list[sel] ## sel의 위치를 minimum에 저장\n",
    "        minindex = sel ## 인덱스도 저장\n",
    "        \n",
    "        # find min value\n",
    "        for step in range(sel+1, len(random_list)):\n",
    "            if min > random_list[step]:\n",
    "                min = random_list[step]\n",
    "                minindex = step\n",
    "        \n",
    "        # swap\n",
    "        random_list[minindex] = random_list[sel]\n",
    "        random_list[sel] = min"
   ]
  },
  {
   "cell_type": "code",
   "execution_count": 4,
   "metadata": {},
   "outputs": [
    {
     "name": "stdout",
     "output_type": "stream",
     "text": [
      "<Before Sort>\n",
      "[4, 8, 10, 7, 10, 10, 7, 10, 10, 5]\n",
      "<After Sort>\n",
      "[4, 5, 7, 7, 8, 10, 10, 10, 10, 10]\n"
     ]
    }
   ],
   "source": [
    "import random\n",
    "\n",
    "## 난수 생성\n",
    "list = []\n",
    "for i in range(10):\n",
    "    list.append(random.randint(1,10))\n",
    "print(\"<Before Sort>\")\n",
    "print(list)\n",
    "selected_sort(list)\n",
    "## 함수 안에서 선언된 변수는 지역 변수지만 random_list와 같이 리스트 자체를 수정하면\n",
    "## 수정된 상태로 남게 됨\n",
    "print(\"<After Sort>\")\n",
    "print(list)"
   ]
  },
  {
   "cell_type": "markdown",
   "metadata": {},
   "source": [
    "## 8.2 선택 정렬 알고리즘의 분석\n",
    "\n",
    "- 선택 정렬 알고리즘의 코드는 아직 정렬되지 않은 부분부터 데이터 끝까지 for문을 바복하면서 남아 있는 정렬되지 않은 데이터 중의 가장 작은 값을 갖는 데이터를 선택하게 된다.  이 선택(Select)이 이 알고리즘의 이름이 선택 정렬(Select Sort) 알고리즘이 된 이유이다.  \n",
    "- 이 알고리즘은 총 $N(N-1)/2$번 비교한다. 그리고 데이터를 정렬되지 않은 부분에서 정렬된 쪽으로 이동하는 횟수는 $(N-1)$회이다.\n",
    "$$(N - 1) + (N - 2) + \\dots + 1 = \\frac{N(N-1)}{2}$$\n",
    "- 이와 같은 선택 정렬 알고리즘의 장점은 정렬할 데이터 하나하나의 크기가 큰 경우에 유용하다. 비교 횟수는 $(N^2/2)$회나 되기 때문에 큰 편이지만 데이터의 교환 횟수는 $(N-1)$회면 충분하게 된다. 따라서 교환 횟수가 상대적으로 적기 때문에 __정렬할 데이터 하나하나의 크기가 큰 경우__라면 다른 정렬 알고리즘보다 유용하다고 할 수  있다."
   ]
  },
  {
   "cell_type": "markdown",
   "metadata": {},
   "source": [
    "## 8.3 삽입 정렬 알고리즘(Insert Sort Algorithm)\n"
   ]
  },
  {
   "cell_type": "markdown",
   "metadata": {},
   "source": [
    "- 삽입 정렬은 선택 정렬과는 달리 작은 값을 찾는 검색 과정이 필요 없는 정렬 알고리즘이다. 오히려 순차적으로 정렬하면서 현재의 값을 정렬되어 있는 값들과 비교하여 위치로 삽입하는 방식이다."
   ]
  },
  {
   "cell_type": "code",
   "execution_count": 29,
   "metadata": {},
   "outputs": [],
   "source": [
    "compare_counter = 0\n",
    "swap_counter = 0\n",
    "\n",
    "def insertion_sort(my_list):\n",
    "    global compare_counter, swap_counter\n",
    "    my_list.insert(0, -1) ## 입력된 리스트에 있는 데이터는 양수라는 가정\n",
    "    for s_idx in range(2, len(my_list)): ## 원래 데이터의 두번째 숫자부터 시작\n",
    "        temp = my_list[s_idx] ## 넣을 숫자\n",
    "        ins_idx = s_idx ## 현 위치 인덱스\n",
    "        compare_counter += 1\n",
    "        \n",
    "        while my_list[ins_idx - 1] > temp: ### 이 while을 얼마나 빨리 빠져나오는 지가 알고리즘의 성능을 좌우함\n",
    "            my_list[ins_idx] = my_list[ins_idx - 1] ## 뒤로 밀기\n",
    "            ins_idx -= 1\n",
    "            swap_counter += 1\n",
    "            \n",
    "        my_list[ins_idx] = temp ## while문을 돌고 나오면 ins_idx가 하나씩 줄게 되어서 temp가\n",
    "                                                ## 위치해야하는 곳의 인덱스까지 내려옴\n",
    "    del my_list[0]"
   ]
  },
  {
   "cell_type": "code",
   "execution_count": 28,
   "metadata": {},
   "outputs": [
    {
     "name": "stdout",
     "output_type": "stream",
     "text": [
      "정렬할 데이터의 수: 100\n",
      "<Before Sort>\n",
      "[82, 15, 4, 95, 36, 32, 29, 18, 95, 14, 87, 95, 70, 12, 76, 55, 5, 4, 12, 28, 30, 65, 78, 4, 72, 26, 92, 84, 90, 70, 54, 29, 58, 76, 36, 1, 98, 21, 90, 55, 44, 36, 20, 28, 98, 44, 14, 12, 49, 13, 46, 45, 78, 34, 6, 94, 59, 69, 16, 49, 11, 71, 38, 81, 80, 47, 74, 25, 91, 9, 6, 85, 30, 99, 38, 11, 30, 13, 49, 36, 59, 82, 47, 21, 48, 46, 27, 86, 35, 90, 88, 83, 10, 78, 82, 22, 69, 94, 32, 21]\n",
      "<After Sort>\n",
      "[1, 4, 4, 4, 5, 6, 6, 9, 10, 11, 11, 12, 12, 12, 13, 13, 14, 14, 15, 16, 18, 20, 21, 21, 21, 22, 25, 26, 27, 28, 28, 29, 29, 30, 30, 30, 32, 32, 34, 35, 36, 36, 36, 36, 38, 38, 44, 44, 45, 46, 46, 47, 47, 48, 49, 49, 49, 54, 55, 55, 58, 59, 59, 65, 69, 69, 70, 70, 71, 72, 74, 76, 76, 78, 78, 78, 80, 81, 82, 82, 82, 83, 84, 85, 86, 87, 88, 90, 90, 90, 91, 92, 94, 94, 95, 95, 95, 98, 98, 99]\n",
      "데이터의 크기: 100\n",
      "비교 횟수: 99\n",
      "교환 횟수: 2345\n"
     ]
    }
   ],
   "source": [
    "import random\n",
    "random.seed(42)\n",
    "list = []\n",
    "input_n = input('정렬할 데이터의 수: ')\n",
    "for i in range(int(input_n)):\n",
    "    list.append(random.randint(1, int(input_n)))\n",
    "\n",
    "print(\"<Before Sort>\")\n",
    "print(list)\n",
    "\n",
    "insertion_sort(list)\n",
    "print(\"<After Sort>\")\n",
    "print(list)\n",
    "\n",
    "print(\"데이터의 크기: {}\".format(int(input_n)))\n",
    "print(\"비교 횟수: {}\".format(compare_counter))\n",
    "print(\"교환 횟수: {}\".format(swap_counter))"
   ]
  },
  {
   "cell_type": "markdown",
   "metadata": {},
   "source": [
    "## 8.4 삽입 정렬 알고리즘의 실행과 성능\n"
   ]
  },
  {
   "cell_type": "markdown",
   "metadata": {},
   "source": [
    "- 삽입 정렬 알고리즘의 경우에는 이미 정렬된 데이터, 즉 최선의 경우에는 선택 정렬 알고리즘에 비해 월등히 좋은 성능을 보여준다. \n",
    "- 반면, 역순으로 정렬된 데이터, 즉 최아그이 경우에는 선택 정렬 보다 삽입 정렬의 성능이 더 안 좋다. 삽입 정렬 알고리즘의 경우에는 최악의 경우 비교 횟수도 $N\\times (N-1)/2$가 되고, 데이터의 이동 횟수도 $N\\times (N-1)/2$가 된다.\n",
    "\n",
    "\n",
    "- 따라서 삽입 정렬 알고리즘의 성능은 $O$ 표기법으로 표시하면 $O(N^2)$이 된다. 선택 정렬 알고리즘의 경우에도 동일하기 때문에 두 알고리즘의 성능은 그다지 차이가 없다고 볼 수 있다.\n",
    "\n",
    "\n",
    "- 결론적으로 선택 정렬이 비교 횟수가 많고 데이터의 이동 횟수가 적은 반면에, 삽입 정렬은 비교 횟수가 적고 상대적으로 데이터의 이동 횟수가 많은 편에 속한다.\n",
    "\n",
    "\n",
    "1. 시간의 효율성  \n",
    "삽입 정렬 알고리즘은 $O(N^2)$의 실행 시간을 갖는다. 그러나 정렬이 어느 정도 되어 있는 경우, 특히 이미 거의 정렬이 되어 있는 경우에는 $N$에 가까운 성능을 보여준다. 이러한 삽입 정렬 특성은 이후에 배우게 될 좀 더 발전된 정렬 알고리즘과 함께 사용하면 전반적인 시스템의 성능을 크게 향상 시킬 수 있다.\n",
    "2. 공간의 효율성  \n",
    "삽입 정렬 알고리즘은 데이터의 크기가 큰 경우에는 데이터 교환 횟수가 상대적으로 많기 때문에 그다지 바람직한 정렬 방법은 아니다. 그러나, 하나당 데이터의 크기가 큰 경우에도 인덱스를 사용하는 간접 정렬 방식을 사용하면 삽입 정렬의 단점 중에 하나인 공간의 효율성이 떨어지는 단점을 해결할 수 있다.\n",
    "3. 코드의 효율성  \n",
    "삽입 정렬 알고리즘의 코드 복잡도는 반복문을 2번 사용하여 $O(N^2)$의 성능이 되므로 그다지 좋은 알고리즘이라고 보기는 어렵다."
   ]
  },
  {
   "cell_type": "markdown",
   "metadata": {},
   "source": [
    "## 8.5 정리  \n",
    "- 이번 Lesson에서는 선택 정렬 알고리즘과 삽입 정렬 알고리즘을 비교했다. 전체적인 성능은 선택 정렬 알고리즘이 삽입 정렬 알고리즘보다 떨어진다. 그렇다고 해서 모든 경우에 삽입 정렬 알고리즘이 더 좋은 것은 아니다.\n",
    "- 삽입 정렬 알고리즘은 정렬할 데이터의 양에 따라서 성능 저하가 많다. 오히려 이런 점에서는 선택 정렬 알고리즘이 더 낫다고 볼 수도 있다.\n",
    "\n",
    "\n",
    "- 데이터를 정렬할 때 무조건 하나의 정렬 알고리즘을 사용하는 것은 바람직하지 않다. 정렬할 여러 가지 조건(데이터의 개수, 사용할 수 있는 메모리의 양 등)을 분석해서 가장 합당한 정렬 알고리즘을 선택해야 한다."
   ]
  },
  {
   "cell_type": "code",
   "execution_count": null,
   "metadata": {},
   "outputs": [],
   "source": []
  }
 ],
 "metadata": {
  "kernelspec": {
   "display_name": "Python 3",
   "language": "python",
   "name": "python3"
  },
  "language_info": {
   "codemirror_mode": {
    "name": "ipython",
    "version": 3
   },
   "file_extension": ".py",
   "mimetype": "text/x-python",
   "name": "python",
   "nbconvert_exporter": "python",
   "pygments_lexer": "ipython3",
   "version": "3.6.4"
  }
 },
 "nbformat": 4,
 "nbformat_minor": 2
}
