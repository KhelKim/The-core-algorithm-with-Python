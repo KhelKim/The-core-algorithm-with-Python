{
 "cells": [
  {
   "cell_type": "markdown",
   "metadata": {},
   "source": [
    "필수알고리즘with파이썬_12\n",
    "==============="
   ]
  },
  {
   "cell_type": "markdown",
   "metadata": {},
   "source": [
    " # LESSON 12 이진 검색 알고리즘\n",
    "12.1 이진 검색 알고리즘(Binary Search Algorithm)  \n",
    "12.2 재귀 호출을 사용하는 이진 검색 알고리즘  \n",
    "12.3 정리"
   ]
  },
  {
   "cell_type": "markdown",
   "metadata": {},
   "source": [
    "## 12.1 이진 검색 알고리즘(Binary Search Algorithm)\n",
    "- 이진 검색 알고리즘의 검색 방법은 __미리 정렬__되어 있는 데이터를 절반씩 잘라서 검색하는 방법이다.\n",
    "- 이진 탐색에서 N개의 키가 저장되어 있을 때 최악의 경우 ($log_2N + 1$)회 비교 횟수가 필요하게 된다."
   ]
  },
  {
   "cell_type": "code",
   "execution_count": 12,
   "metadata": {},
   "outputs": [],
   "source": [
    "def swap(x, i, j):\n",
    "    x[i], x[j] = x[j], x[i]\n",
    "\n",
    "def pivotFirst(x, lmark, rmark):\n",
    "    pivot_val = x[lmark]\n",
    "    pivot_idx = lmark\n",
    "    while lmark <= rmark:\n",
    "        while lmark <= rmark and x[lmark] <= pivot_val:\n",
    "            lmark += 1\n",
    "        while lmark <= rmark and x[rmark] >= pivot_val:\n",
    "            rmark -= 1\n",
    "        if lmark <= rmark:\n",
    "            swap(x, lmark, rmark)\n",
    "            lmark += 1\n",
    "            rmark -= 1\n",
    "    swap(x, pivot_idx, rmark)\n",
    "    return rmark\n",
    "\n",
    "def quickSort(x, pivotMethod=pivotFirst):\n",
    "    def _qsort(x, first, last):\n",
    "        if first  < last:\n",
    "            splitpoint = pivotMethod(x, first, last)\n",
    "            _qsort(x, first, splitpoint-1)\n",
    "            _qsort(x, splitpoint+1, last)\n",
    "    _qsort(x, 0, len(x)-1)\n",
    "    \n",
    "############## 여기까지는 퀵 정렬\n",
    "\n",
    "def binary_search(a_list, wanted_data):\n",
    "    first = 0\n",
    "    last = len(a_list) - 1\n",
    "    \n",
    "    while first <= last:\n",
    "        idx = (first + last) // 2\n",
    "        \n",
    "        if a_list[idx] == wanted_data:\n",
    "            print('{item} found at position {i}'.format(item=wanted_data, i=idx))\n",
    "            return True\n",
    "        elif a_list[idx] > wanted_data:\n",
    "            last = idx - 1\n",
    "        elif a_list[idx] < wanted_data:\n",
    "            first = idx + 1\n",
    "    print('{item} not found in the list'.format(item=wanted_data))\n",
    "    return False"
   ]
  },
  {
   "cell_type": "code",
   "execution_count": 16,
   "metadata": {},
   "outputs": [
    {
     "name": "stdout",
     "output_type": "stream",
     "text": [
      "전체 데이터의 수: 15\n",
      "After Sort\n",
      "[8, 13, 26, 31, 33, 38, 40, 41, 57, 59, 68, 80, 82, 85, 86]\n",
      "50 not found in the list\n"
     ]
    },
    {
     "data": {
      "text/plain": [
       "False"
      ]
     },
     "execution_count": 16,
     "metadata": {},
     "output_type": "execute_result"
    }
   ],
   "source": [
    "import random\n",
    "\n",
    "data = []\n",
    "input_n = int(input(\"전체 데이터의 수: \"))\n",
    "data = [random.randint(1,100) for x in range(input_n)]\n",
    "\n",
    "print(\"After Sort\")\n",
    "quickSort(data)\n",
    "print(data)\n",
    "\n",
    "msg = binary_search(data, 50)\n",
    "msg"
   ]
  },
  {
   "cell_type": "markdown",
   "metadata": {},
   "source": [
    "## 12.2 재귀 호출을 사용하는 이진 검색 알고리즘\n",
    "- 이진 검색 알고리즘은 인덱스를 계산하는 방식이 규칙적이기 때문에 재귀 호출 방식으로도 구현할 수 있다."
   ]
  },
  {
   "cell_type": "code",
   "execution_count": 55,
   "metadata": {},
   "outputs": [],
   "source": [
    "def swap(x, i, j):\n",
    "    x[i], x[j] = x[j], x[i]\n",
    "\n",
    "def pivotFirst(x, lmark, rmark):\n",
    "    pivot_val = x[lmark]\n",
    "    pivot_idx = lmark\n",
    "    while lmark <= rmark:\n",
    "        while lmark <= rmark and x[lmark] <= pivot_val:\n",
    "            lmark += 1\n",
    "        while lmark <= rmark and x[rmark] >= pivot_val:\n",
    "            rmark -= 1\n",
    "        if lmark <= rmark:\n",
    "            swap(x, lmark, rmark)\n",
    "            lmark += 1\n",
    "            rmark -= 1\n",
    "    swap(x, pivot_idx, rmark)\n",
    "    return rmark\n",
    "\n",
    "def quickSort(x, pivotMethod=pivotFirst):\n",
    "    def _qsort(x, first, last):\n",
    "        if first  < last:\n",
    "            splitpoint = pivotMethod(x, first, last)\n",
    "            _qsort(x, first, splitpoint-1)\n",
    "            _qsort(x, splitpoint+1, last)\n",
    "    _qsort(x, 0, len(x)-1)\n",
    "    \n",
    "############## 여기까지는 퀵 정렬\n",
    "\n",
    "def binary_search_recursive(a_list, wanted_data, t = 0):\n",
    "    first = 0\n",
    "    last = len(a_list) - 1\n",
    "    tmp = t\n",
    "    t += (len(a_list) - 1) // 2\n",
    "\n",
    "    if len(a_list) == 0:\n",
    "        print('{item} not found in the list'.format(item=wanted_data))\n",
    "        return False\n",
    "    else:\n",
    "        idx = (first + last) // 2\n",
    "        print(t)\n",
    "        if wanted_data == a_list[idx]:\n",
    "            print('{item} found at position {i}'.format(item=wanted_data, i=t))\n",
    "            return True\n",
    "        else:\n",
    "            if a_list[idx] < wanted_data:\n",
    "                return binary_search_recursive(a_list[idx+1:], wanted_data, t = t + 1)\n",
    "            else:\n",
    "                return binary_search_recursive(a_list[:idx], wanted_data, t = tmp)"
   ]
  },
  {
   "cell_type": "code",
   "execution_count": 57,
   "metadata": {},
   "outputs": [
    {
     "name": "stdout",
     "output_type": "stream",
     "text": [
      "전체 데이터의 수: 100\n",
      "After Sort\n",
      "[1, 1, 2, 3, 5, 6, 7, 7, 9, 10, 10, 11, 13, 14, 14, 15, 17, 18, 18, 19, 21, 24, 24, 25, 26, 29, 30, 31, 31, 31, 36, 37, 39, 39, 41, 41, 42, 43, 44, 45, 47, 47, 47, 50, 50, 50, 51, 52, 53, 54, 54, 55, 55, 55, 58, 59, 59, 59, 60, 60, 60, 62, 62, 62, 64, 64, 65, 65, 66, 66, 66, 69, 71, 71, 73, 74, 76, 78, 78, 78, 79, 81, 81, 82, 83, 84, 84, 87, 88, 91, 92, 92, 92, 92, 94, 95, 95, 98, 98, 100]\n",
      "49\n",
      "24\n",
      "36\n",
      "42\n",
      "45\n",
      "50 found at position 45\n"
     ]
    },
    {
     "data": {
      "text/plain": [
       "True"
      ]
     },
     "execution_count": 57,
     "metadata": {},
     "output_type": "execute_result"
    }
   ],
   "source": [
    "import random\n",
    "\n",
    "data = []\n",
    "input_n = int(input(\"전체 데이터의 수: \"))\n",
    "data = [random.randint(1,100) for x in range(input_n)]\n",
    "\n",
    "print(\"After Sort\")\n",
    "quickSort(data)\n",
    "print(data)\n",
    "\n",
    "msg = binary_search_recursive(data, 50)\n",
    "msg"
   ]
  },
  {
   "cell_type": "markdown",
   "metadata": {},
   "source": [
    "1. 시간의 효율성  \n",
    "이진 검색 알고리즘은 O(log_2N + 1)의 성능을 갖고 있다. 따라서 순차 검색의 O(N)에 비하면 성능이 뛰어나다. 데이터의 검색 뿐만 아니라 데이터의 삽입이나 삭제하는 경우에도 일반적인 순차 검색 알고리즘에 비해 뛰어나다.\n",
    "2. 공간의 효율성  \n",
    "이진 검색 알고리즘은 트리 구조로 데이터를 저장하고 검색하게 된다. 따라서 공간의 효율성도 높다.\n",
    "3. 코드의 효율성  \n",
    "이진 검색 알고리즘은 검색의 경우는 그다지 복잡하지 않지만 데이터의 삽입이나 삭제하는 경우에는 트리 구조를 유지하기 위해 순차 검색 알고리즘보다는 코드가 복잡하다."
   ]
  }
 ],
 "metadata": {
  "kernelspec": {
   "display_name": "Python 3",
   "language": "python",
   "name": "python3"
  },
  "language_info": {
   "codemirror_mode": {
    "name": "ipython",
    "version": 3
   },
   "file_extension": ".py",
   "mimetype": "text/x-python",
   "name": "python",
   "nbconvert_exporter": "python",
   "pygments_lexer": "ipython3",
   "version": "3.6.4"
  }
 },
 "nbformat": 4,
 "nbformat_minor": 2
}
