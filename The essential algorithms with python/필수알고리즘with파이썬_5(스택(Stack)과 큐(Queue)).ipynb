{
 "cells": [
  {
   "cell_type": "markdown",
   "metadata": {},
   "source": [
    "필수알고리즘with파이썬_5\n",
    "===================="
   ]
  },
  {
   "cell_type": "markdown",
   "metadata": {},
   "source": [
    "# LESSON 05 스택(Stack)과 큐(Queue)\n",
    "5.1 스택(Stack)의 개념  \n",
    "5.2 스택(Stack)의 구현  \n",
    "5.3 스택(Stack)의 응용: 계산기  \n",
    "5.4 큐(Queue) 알고리즘  \n",
    "5.5 정리"
   ]
  },
  {
   "cell_type": "markdown",
   "metadata": {},
   "source": [
    "## 5.1 스택(Stack)의 개념\n",
    "1. 푸쉬(push): 데이터를 기존 컨테이너 제일 마지막에 추가한다.\n",
    "2. 팝(pop): 컨테이너 제일 마지막 데이터를 꺼낸다.  \n",
    "\n",
    "\n",
    "- 이와 같은 방식을 LIFO(Last In First Oou)이라고 한다. 마지막으로 들어간 것이 제일 처음 나온다는 의미이다."
   ]
  },
  {
   "cell_type": "markdown",
   "metadata": {},
   "source": [
    "## 5.2 스택(Stack)의 구현\n",
    "\n",
    "- 데이터를 저장해 놓을 메모리 공간이 필요한데, 이 메모리 공간은 배열이나 연결 리스트 둘 중에 어느 것으로 사용해도 사실 상관없다. 하지만 파이썬에서는 리스트를 사용하면 그 어떤 프로그래밍 언어보다 쉽게 스택을 구현할 수 있다."
   ]
  },
  {
   "cell_type": "code",
   "execution_count": 1,
   "metadata": {},
   "outputs": [],
   "source": [
    "def push(item):\n",
    "    stack.append(item)\n",
    "\n",
    "def pop():\n",
    "    return stack.pop()"
   ]
  },
  {
   "cell_type": "code",
   "execution_count": 2,
   "metadata": {},
   "outputs": [
    {
     "name": "stdout",
     "output_type": "stream",
     "text": [
      "현재 stack의 모습\n",
      "[1, 2, 3, 4]\n",
      "POP -> 4\n",
      "POP -> 3\n",
      "POP -> 2\n",
      "POP -> 1\n"
     ]
    }
   ],
   "source": [
    "stack = []\n",
    "push(1)\n",
    "push(2)\n",
    "push(3)\n",
    "push(4)\n",
    "\n",
    "print(\"현재 stack의 모습\")\n",
    "print(stack)\n",
    "\n",
    "while stack:\n",
    "    print(\"POP -> {}\".format(pop()))"
   ]
  },
  {
   "cell_type": "markdown",
   "metadata": {},
   "source": [
    "1. 시간의 효율성  \n",
    "스택의 개념 자체가 검색하는 과정이 필요 없이 가장 마지막에 입력된 데이터를 pop하고 데이터를 삽입할 때도 가장 마지막에 집어 넣기 때문이다. 따라서, 연결 리스트를 사용한다고 하더라도 시간적인 효율성 면에서는 배열보다 나은 점은 없다고 볼 수 있다.\n",
    "2. 공간의 효율성  \n",
    "공간의 효율성 측면에서는 배열로 구현한 스택이 배열의 전체 크기에 국한된다는 점 때문에 연결 리스트를 사용한 스택이 더 효율적이라고 말할 수 있으나, 대부분의 스택을 사용하는 경우에는 스택의 크기를 정해놓고서 사용하는 것이 일반적이기 때문에 스택을 배열로 구현했다고 해서 공간의 효율이 저하된다고 보기는 어렵다.\n",
    "3. 코드의 효율성  \n",
    "코드의 효율성은 연결 리스트에 대한 코드를 이해할 수 있다면 이것을 이용해서 만든 스택의 코드는 쉽게 이해할 수 있다."
   ]
  },
  {
   "cell_type": "markdown",
   "metadata": {},
   "source": [
    "## 5.3 스택(Stack)의 응용: 계산기\n",
    "\n",
    "- 계산기 프로그램에 대해서 알아보자.\n",
    "\n",
    "### 5.3.1 계산기의 프로그램의 개념\n",
    "\n",
    "- 사칙 연산자(+, -, \\*, /)는 다 같은 연산자가 아니다. 4개의 연산자 중에서 \\*와 /연산자가 우선순위가 높다. 따라서 \"2 \\* 3 + 1\"은 쉬울지 몰라도 \"1 + 2 \\* 3\"같은 경우는 생각을 더 해봐야 한다(뒤쪽 계산을 먼저 해줘야 한다).\n",
    "\n",
    "\n",
    "#### 스택의 적용: 계산기\n",
    "내가 구현한거라 코딩이 엉성할 수 있음.\n",
    "\n",
    "- 2개의 스택을 사용하게 되는데, 하나는 피연산자를 위한 스택이고 다른 하나는 연산자를 위한 스택이다. \n",
    "- 연산자에게 크기를 부여하여 ordering한다.\n",
    "- 현재 연산자를 스택하기 전에 전에 추가된 연산자와 비교하여 현재 연산자가 크기가 크면 그냥 스택한다.\n",
    "- 현재 연산자의 크기가 작으면 전 연산자를 먼저 계산하고 현재 연산자를 추가한다."
   ]
  },
  {
   "cell_type": "markdown",
   "metadata": {},
   "source": [
    "#### Opertion\n",
    "- 제약조건  \n",
    "숫자는 0에서 9사이, 괄호 없음, 나눗셈 없음(아직은 코딩실력이 부족하니 나중에 와서 조져보자...ㅠㅠ)  \n",
    "\n",
    "~~~\n",
    "get_weight(oprt)\n",
    "# 인자로 받은 연산자의 가중치를 리턴한다.\n",
    "# 가중치 순서: *, / > +, - > (\n",
    "\n",
    "calc_two_oper(피연산자1, 피연산자2, 연산자)\n",
    "##  연산자의 종류에 따라서 연산을 진행한 결과를 리턴한다.\n",
    "\n",
    "get_two_lists()\n",
    "## 주어진 인스터스 변수 org_exp를 통해 oper_list와 extra_number를 리턴한다.\n",
    "## 이 부분에서 stack이 쓰임\n",
    "\n",
    "calculate()\n",
    "## oper_list와 extra_number를 이용해 결과값을 리턴한다.\n",
    "## 이 부분에선 queue가 쓰임\n",
    "~~~"
   ]
  },
  {
   "cell_type": "code",
   "execution_count": 3,
   "metadata": {},
   "outputs": [],
   "source": [
    "def calculator(org_exp):\n",
    "    def get_weight(oprt):\n",
    "        if oprt == '*' or oprt == '/':\n",
    "            return 9\n",
    "        elif oprt == '+' or oprt == '-':\n",
    "            return 7\n",
    "        elif oprt == '(':\n",
    "            return 5\n",
    "        else:\n",
    "            return -1\n",
    "        \n",
    "    def cal_two_num(x,y,oper):\n",
    "        x, y = float(x), float(y)\n",
    "        if oper == '*':\n",
    "            return str(x * y)\n",
    "        elif oper == '/':\n",
    "            return str(x / y)\n",
    "        elif oper == '+':\n",
    "            return str(x + y)\n",
    "        elif oper == '-':\n",
    "            return str(x - y)\n",
    "\n",
    "    def get_two_lists():\n",
    "        numbers ='0123456789'\n",
    "        operations = '+-/*'\n",
    "        oper_list = []\n",
    "        extra_number = []\n",
    "        ite = 0\n",
    "        while ite < len(org_exp):\n",
    "            if org_exp[ite] in numbers:\n",
    "                extra_number.append(org_exp[ite])\n",
    "                ite += 1\n",
    "            else:\n",
    "                if oper_list == []:\n",
    "                    oper_list.append(org_exp[ite])\n",
    "                    ite += 1\n",
    "                elif get_weight(oper_list[-1]) <= get_weight(org_exp[ite]):\n",
    "                    oper_list.append(org_exp[ite])\n",
    "                    ite += 1\n",
    "                else:\n",
    "                    priority_cal = cal_two_num(extra_number[-2],\n",
    "                                               extra_number[-1], oper_list.pop())\n",
    "                    extra_number[-2] = priority_cal\n",
    "                    extra_number = extra_number[:-1]\n",
    "        \n",
    "    def calculate():\n",
    "        while oper_list:\n",
    "            num = extra_number.pop(0)\n",
    "            extra_number = [cal_two_num(num, extra_number.pop(0), oper_list.pop(0))] + extra_number\n",
    "            \n",
    "    get_two_lists()\n",
    "    calculate()\n",
    "    print(extra_number[0])"
   ]
  },
  {
   "cell_type": "markdown",
   "metadata": {},
   "source": [
    "1. 시간의 효율성  \n",
    "계산기 프로그램의 성능을 O 표기법으로 계산해보면 O(N)이 된다. 그 이유는 앞의 계산기 프로그램의 코드에서 반복문이 사용되는 경우는 while문 하나밖에 없기 때문이다.\n",
    "2. 시간의 효율성 2  \n",
    "괄호 연산이 가능한 계산기 프로그램의 성능으 O 표기법으로 계산해보면 O($N^2$)이 된다."
   ]
  },
  {
   "cell_type": "markdown",
   "metadata": {},
   "source": [
    "## 5.4 큐(Queue) 알고리즘\n",
    "- 큐 알고리즘은 앞에서 배운 스택 알고리즘과 함께 기본 중의 기본 알고리즘으로 많이 사용되는 알고리즘이다.\n",
    "### 5.4.1 큐(Queue)의 개념\n",
    "- 스택이 LIFO(Last In First Out)라면 큐는 FIFO(First In First Out)방식을 사용한다. FIFO 방식은 처음으로 저장한 데이터를 처음 사용하는 방식이다.\n",
    "- 데이터를 입력하는 것을 Put이라고 하며, 데이터를 꺼내는 동작을 Get이다.\n",
    "### 5.4.2 배열을 사용한 큐(Queue)의 구현\n",
    "- 큐 역시 배열이든 연결리스트든 어떤 것으로 만들어도 상관없지만, 큐는 배열을 사용하는 것이 좀 더 편리하다.\n"
   ]
  },
  {
   "cell_type": "code",
   "execution_count": 4,
   "metadata": {},
   "outputs": [],
   "source": [
    "def put(item):\n",
    "    queue.append(item)\n",
    "\n",
    "def get():\n",
    "    return queue.pop(0)"
   ]
  },
  {
   "cell_type": "code",
   "execution_count": 5,
   "metadata": {},
   "outputs": [
    {
     "name": "stdout",
     "output_type": "stream",
     "text": [
      "현재 queue의 모습\n",
      "[1, 2, 3, 4]\n",
      "POP -> 1\n",
      "POP -> 2\n",
      "POP -> 3\n",
      "POP -> 4\n"
     ]
    }
   ],
   "source": [
    "queue = []\n",
    "put(1)\n",
    "put(2)\n",
    "put(3)\n",
    "put(4)\n",
    "\n",
    "print(\"현재 queue의 모습\")\n",
    "print(queue)\n",
    "\n",
    "while queue:\n",
    "    print(\"POP -> {}\".format(get()))"
   ]
  },
  {
   "cell_type": "markdown",
   "metadata": {},
   "source": [
    "### 5.4.3 배열을 사용한 큐 알고리즘 분석\n",
    "1. 시간의 효율성  \n",
    "큐 알고리즘은 배열로 구성되어 있지만 시간적인 효율성 측면에서는 배열로 하든 연결 리스트로 하든 상관 없다.\n",
    "2. 공간의 효율성  \n",
    "배열의 전체 크기와는 상관없이 원형 큐 형태로 사용한다.\n",
    "3. 코드의 효율성  \n",
    "코드이 효율성은 큐의 입력 위치나 출력 위치 모두 배열의 인덱스 형태로 사용하기 때문에 코드가 매우 간단하다."
   ]
  },
  {
   "cell_type": "markdown",
   "metadata": {},
   "source": [
    "## 5.5 정리\n",
    "- 스택과 큐는 기본적인 알고리즘이며 이미 많은 프로그램에서 사용하고 있는 알고리즘이다. 따라서 꼭 기억해두는 것이 좋다."
   ]
  }
 ],
 "metadata": {
  "kernelspec": {
   "display_name": "Python 3",
   "language": "python",
   "name": "python3"
  },
  "language_info": {
   "codemirror_mode": {
    "name": "ipython",
    "version": 3
   },
   "file_extension": ".py",
   "mimetype": "text/x-python",
   "name": "python",
   "nbconvert_exporter": "python",
   "pygments_lexer": "ipython3",
   "version": "3.6.4"
  }
 },
 "nbformat": 4,
 "nbformat_minor": 2
}
