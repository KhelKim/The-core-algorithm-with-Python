{
 "cells": [
  {
   "cell_type": "markdown",
   "metadata": {},
   "source": [
    "필수 알고리즘 with 파이썬\n",
    "=============\n",
    "LESSON 01 - 파이썬 프로그래밍을 위한 개발 환경 만들기  \n",
    "LESSON 02 - 알고리즘 정의와 분석 방법  \n",
    "LESSON 03 - 연결 리스트  \n",
    "LESSON 04 - 이중 연결 리스트  \n",
    "LESSON 05 - 스택(Stack)과 큐(Queue)  \n",
    "LESSON 06 - 트리(Tree)  \n",
    "LESSON 07 - 트리(Tree)와 순회(Traverse) 알고리즘  \n",
    "LESSON 08 - 선택/삽입 정렬 알고리즘  \n",
    "LESSON 09 - 거품/셸 정렬 알고리즘   \n",
    "LESSON 10 - 퀵/기수  정렬 알고리즘  \n",
    "LESSON 11 - 병합/힙 정렬 알고리즘  \n",
    "LESSON 12 - 이진 검색 알고리즘 "
   ]
  },
  {
   "cell_type": "markdown",
   "metadata": {},
   "source": [
    "# LESSON 01 파이썬 프로그래밍을 위한 개발 환경 만들기(생략)"
   ]
  },
  {
   "cell_type": "markdown",
   "metadata": {},
   "source": [
    "# LESSON 02 - 알고리즘 정의와 분석 방법\n",
    "2.1 알고리즘 정의  \n",
    "2.2 알고리즘의 표기 방법  \n",
    "2.3 알고리즘에 따른 O 표기법  \n",
    "2.4 알고리즘 최적화  \n",
    "2.5 정리"
   ]
  },
  {
   "cell_type": "markdown",
   "metadata": {},
   "source": [
    "## 2.1 알고리즘 정의\n",
    "\n",
    "- 알고리즘이란 \"주어진 조건(Condition)에서 컴퓨터를 사용하여 효율적으로 문제를 해결하는 방법이다."
   ]
  },
  {
   "cell_type": "markdown",
   "metadata": {},
   "source": [
    "## 2.2 알고리즘의 표기 방법\n",
    "\n",
    "참고. if \\_\\_name\\_\\_ = \"\\_\\_main\\_\\_\":의 의미"
   ]
  },
  {
   "cell_type": "code",
   "execution_count": 2,
   "metadata": {},
   "outputs": [
    {
     "name": "stdout",
     "output_type": "stream",
     "text": [
      "5\n",
      "2\n"
     ]
    }
   ],
   "source": [
    "# mod1.py\n",
    "def add(a, b):\n",
    "    return a+b\n",
    "\n",
    "def sub(a, b):\n",
    "    return a-b\n",
    "    \n",
    "print(add(1,4))\n",
    "print(sub(4,2))"
   ]
  },
  {
   "cell_type": "markdown",
   "metadata": {},
   "source": [
    "위와 같은 mod1이라는 파일이 있을 때, 명령 프롬프트 창을 열고 mod1을 불러보자.\n",
    "\n",
    "~~~\n",
    "C:\\>python\n",
    "...\n",
    ">>>import mod1\n",
    "5\n",
    "2\n",
    "~~~\n",
    "그렇다면 import mod1을 수행하는 순간 mod1.py가 실행이 되어 결과값을 출력한다.  \n",
    "이를 방지하기 위해서는 mod1.py 파일을 다음처럼 변경해야 한다.\n",
    "\n"
   ]
  },
  {
   "cell_type": "code",
   "execution_count": 3,
   "metadata": {},
   "outputs": [
    {
     "name": "stdout",
     "output_type": "stream",
     "text": [
      "5\n",
      "2\n"
     ]
    }
   ],
   "source": [
    "# mod1.py\n",
    "def add(a, b):\n",
    "    return a+b\n",
    "\n",
    "def sub(a, b):\n",
    "    return a-b\n",
    "    \n",
    "if __name__ == \"__main__\":\n",
    "    print(add(1,4))\n",
    "    print(sub(4,2))\n",
    "\n"
   ]
  },
  {
   "cell_type": "markdown",
   "metadata": {},
   "source": [
    "\n",
    "<code>if \\_\\_name\\_\\_ == \"\\_\\_main\\_\\_\"</code>를 사용하면 직접 이 파일을 실행시켰을 때는 <code>\\_\\_name\\_\\_ == \"\\_\\_main\\_\\_\"</code>가 참이 되어 if문 다음 문장들이 수행된다. 반대로 대화형 인터프리터나 다른 파일에서 이 모듈을 불러서 사용할 때는 <code>\\_\\_name\\_\\_ == \"\\_\\_main\\_\\_\"</code>이 거짓이 되어 if문 다음 문장들이 수행되지 않는다.\n"
   ]
  },
  {
   "cell_type": "markdown",
   "metadata": {},
   "source": [
    "\n",
    "\n",
    "\n",
    "\n",
    "- 알고리즘 표기법은 빅오(O)표기법을 사용한다.\n",
    "\n",
    "ex)O($1$), O($log_2N$), O($N$), O($NlogN$), O($N^2$), O($N^3$), O($2^N$), "
   ]
  },
  {
   "cell_type": "markdown",
   "metadata": {},
   "source": [
    "## 2.3 알고리즘에 따른 O 표기법"
   ]
  },
  {
   "cell_type": "markdown",
   "metadata": {},
   "source": [
    "1. 반복문은 최대 반복 횟수로 계산한다.\n",
    "2. 중첩된 반복문은 각각의 중첩문의 최대 반복 횟수를 곱셈하여 계산한다.\n",
    "3. 반복문이 떨어져서 2개 이상 있는 경우는 그 중 가장 큰 값으로 계산한다.\n",
    "4. if-else 문은 알고리즘 성능에 영향을 미치지 않는다.\n",
    "5. 재귀 호출은 풀어서 계산한다."
   ]
  },
  {
   "cell_type": "code",
   "execution_count": 1,
   "metadata": {},
   "outputs": [],
   "source": [
    "## 5.에 대해서 조금 더 알아보자.\n",
    "\n",
    "def fact(N):\n",
    "    if N <= 1:\n",
    "        return 1\n",
    "    else:\n",
    "        return N * fact(N - 1)"
   ]
  },
  {
   "cell_type": "markdown",
   "metadata": {},
   "source": [
    "5.의 경우 O 표기법으로 O($N^N$)이다."
   ]
  },
  {
   "cell_type": "markdown",
   "metadata": {},
   "source": [
    "## 2.4  알고리즘 최적화"
   ]
  },
  {
   "cell_type": "markdown",
   "metadata": {},
   "source": [
    "- 알고리즘을 최적화하기 위해서는 알고리즘의 전체 성능을 O 표기법으로 먼저 구하고, 그 O 표기법의 성능을 높이는 방법으로 진행하는 것이 가장 최상의 최적화 방법이다."
   ]
  },
  {
   "cell_type": "markdown",
   "metadata": {},
   "source": [
    "## 2.5 정리"
   ]
  },
  {
   "cell_type": "markdown",
   "metadata": {},
   "source": [
    "- 알고리즘의 기본 개념을 이해하고, 그 성능을 평가할 수 있는 방법을 아는 것은 중요하다."
   ]
  }
 ],
 "metadata": {
  "kernelspec": {
   "display_name": "Python 3",
   "language": "python",
   "name": "python3"
  },
  "language_info": {
   "codemirror_mode": {
    "name": "ipython",
    "version": 3
   },
   "file_extension": ".py",
   "mimetype": "text/x-python",
   "name": "python",
   "nbconvert_exporter": "python",
   "pygments_lexer": "ipython3",
   "version": "3.6.4"
  }
 },
 "nbformat": 4,
 "nbformat_minor": 2
}
